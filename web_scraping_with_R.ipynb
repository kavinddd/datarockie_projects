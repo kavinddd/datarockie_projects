{
 "cells":[
  {
   "cell_type":"markdown",
   "source":[
    "# imdb"
   ],
   "attachments":{
    
   },
   "metadata":{
    "datalore":{
     "node_id":"imdb",
     "type":"MD",
     "hide_input_from_viewers":false,
     "hide_output_from_viewers":false,
     "sheet_delimiter":true
    }
   }
  },
  {
   "cell_type":"markdown",
   "source":[
    "# Mini Project - Web Scraping IMDB"
   ],
   "attachments":{
    
   },
   "metadata":{
    "datalore":{
     "node_id":"hK5YR46N7KefUKHmQeYawh",
     "type":"MD",
     "hide_input_from_viewers":false,
     "hide_output_from_viewers":false
    }
   }
  },
  {
   "cell_type":"code",
   "source":[
    "library(tidyverse)\n",
    "library(rvest)"
   ],
   "execution_count":1,
   "outputs":[
    {
     "name":"stderr",
     "text":[
      "Warning message in system(\"timedatectl\", intern = TRUE):\n",
      "“running command 'timedatectl' had status 1”\n",
      "Warning message:\n",
      "“Failed to locate timezone database”\n",
      "── \u001b[1mAttaching packages\u001b[22m ─────────────────────────────────────── tidyverse 1.3.1 ──\n",
      "\n",
      "\u001b[32m✔\u001b[39m \u001b[34mggplot2\u001b[39m 3.3.5     \u001b[32m✔\u001b[39m \u001b[34mpurrr  \u001b[39m 0.3.4\n",
      "\u001b[32m✔\u001b[39m \u001b[34mtibble \u001b[39m 3.1.5     \u001b[32m✔\u001b[39m \u001b[34mdplyr  \u001b[39m 1.0.7\n",
      "\u001b[32m✔\u001b[39m \u001b[34mtidyr  \u001b[39m 1.1.4     \u001b[32m✔\u001b[39m \u001b[34mstringr\u001b[39m 1.4.0\n",
      "\u001b[32m✔\u001b[39m \u001b[34mreadr  \u001b[39m 2.0.2     \u001b[32m✔\u001b[39m \u001b[34mforcats\u001b[39m 0.5.1\n",
      "\n",
      "── \u001b[1mConflicts\u001b[22m ────────────────────────────────────────── tidyverse_conflicts() ──\n",
      "\u001b[31m✖\u001b[39m \u001b[34mdplyr\u001b[39m::\u001b[32mfilter()\u001b[39m  masks \u001b[34mstats\u001b[39m::filter()\n",
      "\u001b[31m✖\u001b[39m \u001b[34mpurrr\u001b[39m::\u001b[32mflatten()\u001b[39m masks \u001b[34mjsonlite\u001b[39m::flatten()\n",
      "\u001b[31m✖\u001b[39m \u001b[34mdplyr\u001b[39m::\u001b[32mlag()\u001b[39m     masks \u001b[34mstats\u001b[39m::lag()\n",
      "\n",
      "\n",
      "Attaching package: ‘rvest’\n",
      "\n",
      "\n",
      "The following object is masked from ‘package:readr’:\n",
      "\n",
      "    guess_encoding\n",
      "\n",
      "\n"
     ],
     "output_type":"stream"
    }
   ],
   "metadata":{
    "datalore":{
     "node_id":"ushJQ4q7PBILsZvEaJLX3F",
     "type":"CODE",
     "hide_input_from_viewers":false,
     "hide_output_from_viewers":false
    }
   }
  },
  {
   "cell_type":"code",
   "source":[
    "url <- 'https:\/\/www.imdb.com\/search\/title\/?groups=top_100&sort=user_rating,desc'"
   ],
   "execution_count":2,
   "outputs":[
    
   ],
   "metadata":{
    "datalore":{
     "node_id":"Km5wbwKGETiCjEugOhpCkz",
     "type":"CODE",
     "hide_input_from_viewers":false,
     "hide_output_from_viewers":false
    }
   }
  },
  {
   "cell_type":"code",
   "source":[
    "# Read HTML\n",
    "imdb <- read_html(url)"
   ],
   "execution_count":3,
   "outputs":[
    
   ],
   "metadata":{
    "datalore":{
     "node_id":"YQIPirR2MKNlW37GM3Fs92",
     "type":"CODE",
     "hide_input_from_viewers":false,
     "hide_output_from_viewers":false
    }
   }
  },
  {
   "cell_type":"code",
   "source":[
    "titles <- imdb %>%\n",
    "    html_nodes(\"h3.lister-item-header\") %>% # node is like tag (first tag) \/ nodes is find_all (in beautiful soup)\n",
    "    html_text2() # Normal text : there will be a special character"
   ],
   "execution_count":4,
   "outputs":[
    
   ],
   "metadata":{
    "datalore":{
     "node_id":"Vhs1bX0Oj8tEaIX2v5Vjnp",
     "type":"CODE",
     "hide_input_from_viewers":false,
     "hide_output_from_viewers":false
    }
   }
  },
  {
   "cell_type":"code",
   "source":[
    "ratings <- imdb %>%\n",
    "    html_nodes(\"div.ratings-imdb-rating\") %>%\n",
    "    html_text2() %>%\n",
    "    as.numeric()\n",
    "print(ratings)"
   ],
   "execution_count":5,
   "outputs":[
    {
     "name":"stdout",
     "text":[
      " [1] 9.3 9.2 9.0 9.0 9.0 9.0 9.0 8.9 8.8 8.8 8.8 8.8 8.8 8.8 8.7 8.7 8.7 8.7 8.6\n",
      "[20] 8.6 8.6 8.6 8.6 8.6 8.6 8.6 8.6 8.6 8.6 8.6 8.6 8.5 8.5 8.5 8.5 8.5 8.5 8.5\n",
      "[39] 8.5 8.5 8.5 8.5 8.5 8.5 8.5 8.5 8.5 8.5 8.5 8.5\n"
     ],
     "output_type":"stream"
    }
   ],
   "metadata":{
    "datalore":{
     "node_id":"0IRonJpRGrRoQ4wkA9GaGQ",
     "type":"CODE",
     "hide_input_from_viewers":false,
     "hide_output_from_viewers":false
    }
   }
  },
  {
   "cell_type":"code",
   "source":[
    "votes <- imdb %>%\n",
    "    html_nodes('p.sort-num_votes-visible') %>%\n",
    "    html_text2()\n",
    "print(votes)"
   ],
   "execution_count":6,
   "outputs":[
    {
     "name":"stdout",
     "text":[
      " [1] \"Votes: 2,657,844 | Gross: $28.34M | Top 250: #1\"  \n",
      " [2] \"Votes: 1,842,064 | Gross: $134.97M | Top 250: #2\" \n",
      " [3] \"Votes: 2,630,665 | Gross: $534.86M | Top 250: #3\" \n",
      " [4] \"Votes: 1,832,556 | Gross: $377.85M | Top 250: #7\" \n",
      " [5] \"Votes: 1,346,262 | Gross: $96.90M | Top 250: #6\"  \n",
      " [6] \"Votes: 1,262,009 | Gross: $57.30M | Top 250: #4\"  \n",
      " [7] \"Votes: 784,726 | Gross: $4.36M | Top 250: #5\"     \n",
      " [8] \"Votes: 2,034,303 | Gross: $107.93M | Top 250: #8\" \n",
      " [9] \"Votes: 2,331,081 | Gross: $292.58M | Top 250: #14\"\n",
      "[10] \"Votes: 1,654,762 | Gross: $342.55M | Top 250: #13\"\n",
      "[11] \"Votes: 2,102,960 | Gross: $37.03M | Top 250: #12\" \n",
      "[12] \"Votes: 1,861,259 | Gross: $315.54M | Top 250: #9\" \n",
      "[13] \"Votes: 2,059,251 | Gross: $330.25M | Top 250: #11\"\n",
      "[14] \"Votes: 757,827 | Gross: $6.10M | Top 250: #10\"    \n",
      "[15] \"Votes: 1,899,620 | Gross: $171.48M | Top 250: #16\"\n",
      "[16] \"Votes: 1,151,587 | Gross: $46.84M | Top 250: #17\" \n",
      "[17] \"Votes: 1,283,867 | Gross: $290.48M | Top 250: #15\"\n",
      "[18] \"Votes: 1,002,822 | Gross: $112.00M | Top 250: #18\"\n",
      "[19] \"Votes: 1,803,057 | Gross: $188.02M | Top 250: #26\"\n",
      "[20] \"Votes: 753,700 | Gross: $7.56M | Top 250: #23\"    \n",
      "[21] \"Votes: 756,680 | Gross: $10.06M | Top 250: #31\"   \n",
      "[22] \"Votes: 1,381,364 | Gross: $216.54M | Top 250: #24\"\n",
      "[23] \"Votes: 1,291,375 | Gross: $136.80M | Top 250: #27\"\n",
      "[24] \"Votes: 691,143 | Gross: $57.60M | Top 250: #25\"   \n",
      "[25] \"Votes: 1,637,549 | Gross: $100.13M | Top 250: #19\"\n",
      "[26] \"Votes: 1,092,466 | Gross: $204.84M | Top 250: #29\"\n",
      "[27] \"Votes: 1,421,758 | Gross: $130.74M | Top 250: #22\"\n",
      "[28] \"Votes: 1,356,494 | Gross: $322.74M | Top 250: #28\"\n",
      "[29] \"Votes: 57,025 | Top 250: #45\"                     \n",
      "[30] \"Votes: 345,166 | Gross: $0.27M | Top 250: #20\"    \n",
      "[31] \"Votes: 453,574 | Top 250: #21\"                    \n",
      "[32] \"Votes: 788,160 | Gross: $53.37M | Top 250: #34\"   \n",
      "[33] \"Votes: 848,854 | Gross: $13.09M | Top 250: #42\"   \n",
      "[34] \"Votes: 852,219 | Gross: $13.18M | Top 250: #44\"   \n",
      "[35] \"Votes: 1,324,158 | Gross: $53.09M | Top 250: #41\" \n",
      "[36] \"Votes: 1,316,457 | Gross: $132.38M | Top 250: #39\"\n",
      "[37] \"Votes: 826,165 | Gross: $32.57M | Top 250: #33\"   \n",
      "[38] \"Votes: 1,489,681 | Gross: $187.71M | Top 250: #37\"\n",
      "[39] \"Votes: 1,117,083 | Gross: $6.72M | Top 250: #38\"  \n",
      "[40] \"Votes: 1,079,967 | Gross: $23.34M | Top 250: #40\" \n",
      "[41] \"Votes: 1,153,478 | Gross: $19.50M | Top 250: #35\" \n",
      "[42] \"Votes: 1,050,985 | Gross: $422.78M | Top 250: #36\"\n",
      "[43] \"Votes: 260,525 | Gross: $11.99M | Top 250: #52\"   \n",
      "[44] \"Votes: 275,933 | Top 250: #46\"                    \n",
      "[45] \"Votes: 1,194,932 | Gross: $210.61M | Top 250: #30\"\n",
      "[46] \"Votes: 664,648 | Gross: $83.47M | Top 250: #53\"   \n",
      "[47] \"Votes: 877,284 | Gross: $78.90M | Top 250: #50\"   \n",
      "[48] \"Votes: 328,724 | Gross: $5.32M | Top 250: #48\"    \n",
      "[49] \"Votes: 668,966 | Gross: $32.00M | Top 250: #32\"   \n",
      "[50] \"Votes: 490,281 | Gross: $36.76M | Top 250: #49\"   \n"
     ],
     "output_type":"stream"
    }
   ],
   "metadata":{
    "datalore":{
     "node_id":"YhToMs8FbhN6b6UCuHCWDz",
     "type":"CODE",
     "hide_input_from_viewers":false,
     "hide_output_from_viewers":false
    }
   }
  },
  {
   "cell_type":"code",
   "source":[
    "df <- data.frame(\n",
    "    title = titles,\n",
    "    rating = ratings,\n",
    "    vote = votes\n",
    ")"
   ],
   "execution_count":7,
   "outputs":[
    
   ],
   "metadata":{
    "datalore":{
     "node_id":"JKXaqynoFyvGwCS9xZQqfR",
     "type":"CODE",
     "hide_input_from_viewers":false,
     "hide_output_from_viewers":false
    }
   }
  },
  {
   "cell_type":"code",
   "source":[
    "df"
   ],
   "execution_count":8,
   "outputs":[
    {
     "data":{
      "text\/html":[
       "<table class=\"dataframe\">\n",
       "<caption>A data.frame: 50 × 3<\/caption>\n",
       "<thead>\n",
       "\t<tr><th scope=col>title<\/th><th scope=col>rating<\/th><th scope=col>vote<\/th><\/tr>\n",
       "\t<tr><th scope=col>&lt;chr&gt;<\/th><th scope=col>&lt;dbl&gt;<\/th><th scope=col>&lt;chr&gt;<\/th><\/tr>\n",
       "<\/thead>\n",
       "<tbody>\n",
       "\t<tr><td>1. The Shawshank Redemption (1994)                          <\/td><td>9.3<\/td><td>Votes: 2,657,844 | Gross: $28.34M | Top 250: #1  <\/td><\/tr>\n",
       "\t<tr><td>2. The Godfather (1972)                                     <\/td><td>9.2<\/td><td>Votes: 1,842,064 | Gross: $134.97M | Top 250: #2 <\/td><\/tr>\n",
       "\t<tr><td>3. The Dark Knight (2008)                                   <\/td><td>9.0<\/td><td>Votes: 2,630,665 | Gross: $534.86M | Top 250: #3 <\/td><\/tr>\n",
       "\t<tr><td>4. The Lord of the Rings: The Return of the King (2003)     <\/td><td>9.0<\/td><td>Votes: 1,832,556 | Gross: $377.85M | Top 250: #7 <\/td><\/tr>\n",
       "\t<tr><td>5. Schindler's List (1993)                                  <\/td><td>9.0<\/td><td>Votes: 1,346,262 | Gross: $96.90M | Top 250: #6  <\/td><\/tr>\n",
       "\t<tr><td>6. The Godfather Part II (1974)                             <\/td><td>9.0<\/td><td>Votes: 1,262,009 | Gross: $57.30M | Top 250: #4  <\/td><\/tr>\n",
       "\t<tr><td>7. 12 Angry Men (1957)                                      <\/td><td>9.0<\/td><td>Votes: 784,726 | Gross: $4.36M | Top 250: #5     <\/td><\/tr>\n",
       "\t<tr><td>8. Pulp Fiction (1994)                                      <\/td><td>8.9<\/td><td>Votes: 2,034,303 | Gross: $107.93M | Top 250: #8 <\/td><\/tr>\n",
       "\t<tr><td>9. Inception (2010)                                         <\/td><td>8.8<\/td><td>Votes: 2,331,081 | Gross: $292.58M | Top 250: #14<\/td><\/tr>\n",
       "\t<tr><td>10. The Lord of the Rings: The Two Towers (2002)            <\/td><td>8.8<\/td><td>Votes: 1,654,762 | Gross: $342.55M | Top 250: #13<\/td><\/tr>\n",
       "\t<tr><td>11. Fight Club (1999)                                       <\/td><td>8.8<\/td><td>Votes: 2,102,960 | Gross: $37.03M | Top 250: #12 <\/td><\/tr>\n",
       "\t<tr><td>12. The Lord of the Rings: The Fellowship of the Ring (2001)<\/td><td>8.8<\/td><td>Votes: 1,861,259 | Gross: $315.54M | Top 250: #9 <\/td><\/tr>\n",
       "\t<tr><td>13. Forrest Gump (1994)                                     <\/td><td>8.8<\/td><td>Votes: 2,059,251 | Gross: $330.25M | Top 250: #11<\/td><\/tr>\n",
       "\t<tr><td>14. Il buono, il brutto, il cattivo (1966)                  <\/td><td>8.8<\/td><td>Votes: 757,827 | Gross: $6.10M | Top 250: #10    <\/td><\/tr>\n",
       "\t<tr><td>15. The Matrix (1999)                                       <\/td><td>8.7<\/td><td>Votes: 1,899,620 | Gross: $171.48M | Top 250: #16<\/td><\/tr>\n",
       "\t<tr><td>16. Goodfellas (1990)                                       <\/td><td>8.7<\/td><td>Votes: 1,151,587 | Gross: $46.84M | Top 250: #17 <\/td><\/tr>\n",
       "\t<tr><td>17. The Empire Strikes Back (1980)                          <\/td><td>8.7<\/td><td>Votes: 1,283,867 | Gross: $290.48M | Top 250: #15<\/td><\/tr>\n",
       "\t<tr><td>18. One Flew Over the Cuckoo's Nest (1975)                  <\/td><td>8.7<\/td><td>Votes: 1,002,822 | Gross: $112.00M | Top 250: #18<\/td><\/tr>\n",
       "\t<tr><td>19. Interstellar (2014)                                     <\/td><td>8.6<\/td><td>Votes: 1,803,057 | Gross: $188.02M | Top 250: #26<\/td><\/tr>\n",
       "\t<tr><td>20. Cidade de Deus (2002)                                   <\/td><td>8.6<\/td><td>Votes: 753,700 | Gross: $7.56M | Top 250: #23    <\/td><\/tr>\n",
       "\t<tr><td>21. Sen to Chihiro no kamikakushi (2001)                    <\/td><td>8.6<\/td><td>Votes: 756,680 | Gross: $10.06M | Top 250: #31   <\/td><\/tr>\n",
       "\t<tr><td>22. Saving Private Ryan (1998)                              <\/td><td>8.6<\/td><td>Votes: 1,381,364 | Gross: $216.54M | Top 250: #24<\/td><\/tr>\n",
       "\t<tr><td>23. The Green Mile (1999)                                   <\/td><td>8.6<\/td><td>Votes: 1,291,375 | Gross: $136.80M | Top 250: #27<\/td><\/tr>\n",
       "\t<tr><td>24. La vita è bella (1997)                                  <\/td><td>8.6<\/td><td>Votes: 691,143 | Gross: $57.60M | Top 250: #25   <\/td><\/tr>\n",
       "\t<tr><td>25. Se7en (1995)                                            <\/td><td>8.6<\/td><td>Votes: 1,637,549 | Gross: $100.13M | Top 250: #19<\/td><\/tr>\n",
       "\t<tr><td>26. Terminator 2: Judgment Day (1991)                       <\/td><td>8.6<\/td><td>Votes: 1,092,466 | Gross: $204.84M | Top 250: #29<\/td><\/tr>\n",
       "\t<tr><td>27. The Silence of the Lambs (1991)                         <\/td><td>8.6<\/td><td>Votes: 1,421,758 | Gross: $130.74M | Top 250: #22<\/td><\/tr>\n",
       "\t<tr><td>28. Star Wars (1977)                                        <\/td><td>8.6<\/td><td>Votes: 1,356,494 | Gross: $322.74M | Top 250: #28<\/td><\/tr>\n",
       "\t<tr><td>29. Seppuku (1962)                                          <\/td><td>8.6<\/td><td>Votes: 57,025 | Top 250: #45                     <\/td><\/tr>\n",
       "\t<tr><td>30. Shichinin no samurai (1954)                             <\/td><td>8.6<\/td><td>Votes: 345,166 | Gross: $0.27M | Top 250: #20    <\/td><\/tr>\n",
       "\t<tr><td>31. It's a Wonderful Life (1946)                            <\/td><td>8.6<\/td><td>Votes: 453,574 | Top 250: #21                    <\/td><\/tr>\n",
       "\t<tr><td>32. Gisaengchung (2019)                                     <\/td><td>8.5<\/td><td>Votes: 788,160 | Gross: $53.37M | Top 250: #34   <\/td><\/tr>\n",
       "\t<tr><td>33. Whiplash (2014)                                         <\/td><td>8.5<\/td><td>Votes: 848,854 | Gross: $13.09M | Top 250: #42   <\/td><\/tr>\n",
       "\t<tr><td>34. The Intouchables (2011)                                 <\/td><td>8.5<\/td><td>Votes: 852,219 | Gross: $13.18M | Top 250: #44   <\/td><\/tr>\n",
       "\t<tr><td>35. The Prestige (2006)                                     <\/td><td>8.5<\/td><td>Votes: 1,324,158 | Gross: $53.09M | Top 250: #41 <\/td><\/tr>\n",
       "\t<tr><td>36. The Departed (2006)                                     <\/td><td>8.5<\/td><td>Votes: 1,316,457 | Gross: $132.38M | Top 250: #39<\/td><\/tr>\n",
       "\t<tr><td>37. The Pianist (2002)                                      <\/td><td>8.5<\/td><td>Votes: 826,165 | Gross: $32.57M | Top 250: #33   <\/td><\/tr>\n",
       "\t<tr><td>38. Gladiator (2000)                                        <\/td><td>8.5<\/td><td>Votes: 1,489,681 | Gross: $187.71M | Top 250: #37<\/td><\/tr>\n",
       "\t<tr><td>39. American History X (1998)                               <\/td><td>8.5<\/td><td>Votes: 1,117,083 | Gross: $6.72M | Top 250: #38  <\/td><\/tr>\n",
       "\t<tr><td>40. The Usual Suspects (1995)                               <\/td><td>8.5<\/td><td>Votes: 1,079,967 | Gross: $23.34M | Top 250: #40 <\/td><\/tr>\n",
       "\t<tr><td>41. Léon (1994)                                             <\/td><td>8.5<\/td><td>Votes: 1,153,478 | Gross: $19.50M | Top 250: #35 <\/td><\/tr>\n",
       "\t<tr><td>42. The Lion King (1994)                                    <\/td><td>8.5<\/td><td>Votes: 1,050,985 | Gross: $422.78M | Top 250: #36<\/td><\/tr>\n",
       "\t<tr><td>43. Nuovo Cinema Paradiso (1988)                            <\/td><td>8.5<\/td><td>Votes: 260,525 | Gross: $11.99M | Top 250: #52   <\/td><\/tr>\n",
       "\t<tr><td>44. Hotaru no haka (1988)                                   <\/td><td>8.5<\/td><td>Votes: 275,933 | Top 250: #46                    <\/td><\/tr>\n",
       "\t<tr><td>45. Back to the Future (1985)                               <\/td><td>8.5<\/td><td>Votes: 1,194,932 | Gross: $210.61M | Top 250: #30<\/td><\/tr>\n",
       "\t<tr><td>46. Apocalypse Now (1979)                                   <\/td><td>8.5<\/td><td>Votes: 664,648 | Gross: $83.47M | Top 250: #53   <\/td><\/tr>\n",
       "\t<tr><td>47. Alien (1979)                                            <\/td><td>8.5<\/td><td>Votes: 877,284 | Gross: $78.90M | Top 250: #50   <\/td><\/tr>\n",
       "\t<tr><td>48. Once Upon a Time in the West (1968)                     <\/td><td>8.5<\/td><td>Votes: 328,724 | Gross: $5.32M | Top 250: #48    <\/td><\/tr>\n",
       "\t<tr><td>49. Psycho (1960)                                           <\/td><td>8.5<\/td><td>Votes: 668,966 | Gross: $32.00M | Top 250: #32   <\/td><\/tr>\n",
       "\t<tr><td>50. Rear Window (1954)                                      <\/td><td>8.5<\/td><td>Votes: 490,281 | Gross: $36.76M | Top 250: #49   <\/td><\/tr>\n",
       "<\/tbody>\n",
       "<\/table>\n"
      ]
     },
     "metadata":{
      
     },
     "output_type":"display_data"
    }
   ],
   "metadata":{
    "datalore":{
     "node_id":"ClXziaH0HILoxqC1GxbaOg",
     "type":"CODE",
     "hide_input_from_viewers":false,
     "hide_output_from_viewers":false
    }
   }
  },
  {
   "cell_type":"markdown",
   "source":[
    "# SpecPhone"
   ],
   "attachments":{
    
   },
   "metadata":{
    "datalore":{
     "node_id":"SpecPhone",
     "type":"MD",
     "hide_input_from_viewers":false,
     "hide_output_from_viewers":false,
     "sheet_delimiter":true
    }
   }
  },
  {
   "cell_type":"markdown",
   "source":[
    "# Mini Project - Specphone Web Scraping"
   ],
   "attachments":{
    
   },
   "metadata":{
    "datalore":{
     "node_id":"4LxIacITfRBfEqd3uZvVhf",
     "type":"MD",
     "hide_input_from_viewers":false,
     "hide_output_from_viewers":false
    }
   }
  },
  {
   "cell_type":"code",
   "source":[
    "library(tidyverse)\n",
    "library(rvest)"
   ],
   "execution_count":9,
   "outputs":[
    
   ],
   "metadata":{
    "datalore":{
     "node_id":"0Wutjuecx1V6Aj6ATHN2fW",
     "type":"CODE",
     "hide_input_from_viewers":false,
     "hide_output_from_viewers":false
    }
   }
  },
  {
   "cell_type":"code",
   "source":[
    "url <- 'https:\/\/specphone.com\/Samsung-Galaxy-A04.html'\n",
    "html <- read_html(url)"
   ],
   "execution_count":10,
   "outputs":[
    
   ],
   "metadata":{
    "datalore":{
     "node_id":"BHP25R5lVX9pRQqJY7pTZr",
     "type":"CODE",
     "hide_input_from_viewers":false,
     "hide_output_from_viewers":false
    }
   }
  },
  {
   "cell_type":"code",
   "source":[
    "# All samsung smartphones\n",
    "samsung_html <- read_html('https:\/\/specphone.com\/brand\/Samsung')"
   ],
   "execution_count":11,
   "outputs":[
    
   ],
   "metadata":{
    "datalore":{
     "node_id":"TlGmfE9S2QpCR9MSbUtESW",
     "type":"CODE",
     "hide_input_from_viewers":false,
     "hide_output_from_viewers":false
    }
   }
  },
  {
   "cell_type":"code",
   "source":[
    "# Get all the links\n",
    "all_samsungs <- samsung_html %>%\n",
    "    html_nodes('li.mobile-brand-item a') %>%\n",
    "    html_attr('href')\n"
   ],
   "execution_count":12,
   "outputs":[
    
   ],
   "metadata":{
    "datalore":{
     "node_id":"NXNCXSVZcbmBbQryxAfb0W",
     "type":"CODE",
     "hide_input_from_viewers":false,
     "hide_output_from_viewers":false
    }
   }
  },
  {
   "cell_type":"code",
   "source":[
    "# Make them completed links\n",
    "links <- paste0('https:\/\/specphone.com', all_samsungs )\n",
    "print(links)"
   ],
   "execution_count":13,
   "outputs":[
    {
     "name":"stdout",
     "text":[
      " [1] \"https:\/\/specphone.com\/Samsung-Galaxy-M13.html\"               \n",
      " [2] \"https:\/\/specphone.com\/Samsung-Galaxy-A23.html\"               \n",
      " [3] \"https:\/\/specphone.com\/Samsung-Galaxy-A13.html\"               \n",
      " [4] \"https:\/\/specphone.com\/Samsung-Galaxy-M32-5G.html\"            \n",
      " [5] \"https:\/\/specphone.com\/Samsung-Galaxy-A12-Nacho.html\"         \n",
      " [6] \"https:\/\/specphone.com\/Samsung-Galaxy-Pocket-Neo.html\"        \n",
      " [7] \"https:\/\/specphone.com\/Samsung-Galaxy-Young.html\"             \n",
      " [8] \"https:\/\/specphone.com\/Samsung-Galaxy-J1-Mini.html\"           \n",
      " [9] \"https:\/\/specphone.com\/Samsung-Galaxy-A01-Core-1-16GB.html\"   \n",
      "[10] \"https:\/\/specphone.com\/Samsung-Galaxy-V-PLUS.html\"            \n",
      "[11] \"https:\/\/specphone.com\/Samsung-Galaxy-Young-2.html\"           \n",
      "[12] \"https:\/\/specphone.com\/Samsung-Galaxy-M02.html\"               \n",
      "[13] \"https:\/\/specphone.com\/Samsung-Galaxy-A11.html\"               \n",
      "[14] \"https:\/\/specphone.com\/Samsung-Galaxy-J2-Pro-2018.html\"       \n",
      "[15] \"https:\/\/specphone.com\/Samsung-Galaxy-A12-2021.html\"          \n",
      "[16] \"https:\/\/specphone.com\/Samsung-Galaxy-A21s-3-32GB.html\"       \n",
      "[17] \"https:\/\/specphone.com\/Samsung-Galaxy-J5.html\"                \n",
      "[18] \"https:\/\/specphone.com\/Samsung-Galaxy-J4.html\"                \n",
      "[19] \"https:\/\/specphone.com\/Samsung-Galaxy-Core-2-Duos.html\"       \n",
      "[20] \"https:\/\/specphone.com\/Samsung-Galaxy-Ace-Plus.html\"          \n",
      "[21] \"https:\/\/specphone.com\/Samsung-Galaxy-A20.html\"               \n",
      "[22] \"https:\/\/specphone.com\/Samsung-Galaxy-Chat.html\"              \n",
      "[23] \"https:\/\/specphone.com\/Samsung-Galaxy-Gio.html\"               \n",
      "[24] \"https:\/\/specphone.com\/Samsung-Galaxy-Tab-A7-Lite-LTE.html\"   \n",
      "[25] \"https:\/\/specphone.com\/Samsung-Galaxy-Tab-A-10.5WIFI.html\"    \n",
      "[26] \"https:\/\/specphone.com\/Samsung-Galaxy-Alpha.html\"             \n",
      "[27] \"https:\/\/specphone.com\/Samsung-Galaxy-S3-Slim.html\"           \n",
      "[28] \"https:\/\/specphone.com\/Samsung-Galaxy-S4-zoom.html\"           \n",
      "[29] \"https:\/\/specphone.com\/Samsung-Galaxy-Xcover-2.html\"          \n",
      "[30] \"https:\/\/specphone.com\/Samsung-Galaxy-Tab-8.9-3G-16GB.html\"   \n",
      "[31] \"https:\/\/specphone.com\/Samsung-Galaxy-Tab-A8-LTE-2021.html\"   \n",
      "[32] \"https:\/\/specphone.com\/Samsung-Galaxy-A8-2018.html\"           \n",
      "[33] \"https:\/\/specphone.com\/Samsung-Galaxy-Tab4-8.0-wifi.html\"     \n",
      "[34] \"https:\/\/specphone.com\/Samsung-Galaxy-M33-5G.html\"            \n",
      "[35] \"https:\/\/specphone.com\/Samsung-Galaxy-A50.html\"               \n",
      "[36] \"https:\/\/specphone.com\/Samsung-Galaxy-E7.html\"                \n",
      "[37] \"https:\/\/specphone.com\/Samsung-Galaxy-S6.html\"                \n",
      "[38] \"https:\/\/specphone.com\/Samsung-Galaxy-S20-FE.html\"            \n",
      "[39] \"https:\/\/specphone.com\/Samsung-Galaxy-Tab-S4-WIFI.html\"       \n",
      "[40] \"https:\/\/specphone.com\/Samsung-Galaxy-S7.html\"                \n",
      "[41] \"https:\/\/specphone.com\/Samsung-Galaxy-Note-5-Exynos.html\"     \n",
      "[42] \"https:\/\/specphone.com\/Samsung-Galaxy-TabPRO-12.2-LTE.html\"   \n",
      "[43] \"https:\/\/specphone.com\/Samsung-Galaxy-S4-Active.html\"         \n",
      "[44] \"https:\/\/specphone.com\/Samsung-Galaxy-Tab-Active-3.html\"      \n",
      "[45] \"https:\/\/specphone.com\/Samsung-Galaxy-Tab-S3-9.7.html\"        \n",
      "[46] \"https:\/\/specphone.com\/Samsung-Galaxy-S6-edge.html\"           \n",
      "[47] \"https:\/\/specphone.com\/Samsung-Galaxy-Note-4-Exynos.html\"     \n",
      "[48] \"https:\/\/specphone.com\/Samsung-Galaxy-Round.html\"             \n",
      "[49] \"https:\/\/specphone.com\/Samsung-Galaxy-Note-20-Ultra-5G.html\"  \n",
      "[50] \"https:\/\/specphone.com\/Samsung-ATIV-Q.html\"                   \n",
      "[51] \"https:\/\/specphone.com\/Samsung-ATIV-Smart-PC-PRO.html\"        \n",
      "[52] \"https:\/\/specphone.com\/Samsung-Galaxy-S22-Ultra12-128GB.html\" \n",
      "[53] \"https:\/\/specphone.com\/Samsung-Galaxy-Z-Flip-5G.html\"         \n",
      "[54] \"https:\/\/specphone.com\/Samsung-Galaxy-Z-Flip.html\"            \n",
      "[55] \"https:\/\/specphone.com\/Samsung-Galaxy-Tab-S8-Ultra-5G.html\"   \n",
      "[56] \"https:\/\/specphone.com\/Samsung-Galaxy-S21-Ultra-16-512GB.html\"\n",
      "[57] \"https:\/\/specphone.com\/Samsung-Galaxy-S10-Plus-Ram-12GB.html\" \n",
      "[58] \"https:\/\/specphone.com\/Samsung-Galaxy-Z-Fold-3.html\"          \n",
      "[59] \"https:\/\/specphone.com\/Samsung-Galaxy-Z-Fold4.html\"           \n",
      "[60] \"https:\/\/specphone.com\/Samsung-Galaxy-Z-Fold-2-5G.html\"       \n"
     ],
     "output_type":"stream"
    }
   ],
   "metadata":{
    "datalore":{
     "node_id":"z49gbKSQCVhKdHWCnuscr7",
     "type":"CODE",
     "hide_input_from_viewers":false,
     "hide_output_from_viewers":false
    }
   }
  },
  {
   "cell_type":"code",
   "source":[
    "# Scrape each link and store in result dataframe\n",
    "result <- data.frame()\n",
    "for (link in links[1:5]){\n",
    "    html <- read_html(link)\n",
    "    att <- html %>%\n",
    "        html_nodes('div.topic') %>%\n",
    "        html_text2()\n",
    "    value <- html %>%\n",
    "        html_nodes('div.detail') %>%\n",
    "        html_text2\n",
    "    df <- data.frame(\n",
    "        attribute = att,\n",
    "        value = value)\n",
    "\n",
    "    result <- bind_rows(result,df)\n",
    "}\n"
   ],
   "execution_count":20,
   "outputs":[
    
   ],
   "metadata":{
    "datalore":{
     "node_id":"mx6KG7naxY4xidQSxscPNa",
     "type":"CODE",
     "hide_input_from_viewers":false,
     "hide_output_from_viewers":false
    }
   }
  },
  {
   "cell_type":"code",
   "source":[
    "result"
   ],
   "execution_count":21,
   "outputs":[
    {
     "data":{
      "text\/html":[
       "<table class=\"dataframe\">\n",
       "<caption>A data.frame: 160 × 2<\/caption>\n",
       "<thead>\n",
       "\t<tr><th scope=col>attribute<\/th><th scope=col>value<\/th><\/tr>\n",
       "\t<tr><th scope=col>&lt;chr&gt;<\/th><th scope=col>&lt;chr&gt;<\/th><\/tr>\n",
       "<\/thead>\n",
       "<tbody>\n",
       "\t<tr><td>วันเปิดตัว       <\/td><td>มิถุนายน 2565                                                                                         <\/td><\/tr>\n",
       "\t<tr><td>วันวางจำหน่าย   <\/td><td>ยังไม่วางจำหน่าย                                                                                       <\/td><\/tr>\n",
       "\t<tr><td>ขนาด          <\/td><td>165.40 x 76.90 x 8.40 มม.                                                                           <\/td><\/tr>\n",
       "\t<tr><td>น้ำหนัก         <\/td><td>192 กรัม                                                                                             <\/td><\/tr>\n",
       "\t<tr><td>วัสดุ           <\/td><td>Glass front, plastic back, plastic frame                                                            <\/td><\/tr>\n",
       "\t<tr><td>SIM           <\/td><td>รองรับ 2 ซิมการ์ด (nano sim, nano sim)                                                                 <\/td><\/tr>\n",
       "\t<tr><td>Technology    <\/td><td>HSPA 42.2\/5.76 Mbps, LTE-A                                                                          <\/td><\/tr>\n",
       "\t<tr><td>2G            <\/td><td>850\/900\/1800\/1900                                                                                   <\/td><\/tr>\n",
       "\t<tr><td>3G            <\/td><td>850\/900\/1900\/2100                                                                                   <\/td><\/tr>\n",
       "\t<tr><td>4G            <\/td><td>850\/900\/1900\/2100                                                                                   <\/td><\/tr>\n",
       "\t<tr><td>5G            <\/td><td>-                                                                                                   <\/td><\/tr>\n",
       "\t<tr><td>ความเร็ว       <\/td><td>HSPA 42.2\/5.76 Mbps, LTE-A                                                                          <\/td><\/tr>\n",
       "\t<tr><td>ประเภท        <\/td><td>PLS LCD                                                                                             <\/td><\/tr>\n",
       "\t<tr><td>ขนาดหน้าจอ     <\/td><td>6.60 นิ้ว                                                                                             <\/td><\/tr>\n",
       "\t<tr><td>ความละเอียด    <\/td><td>1080 x 2408 pixels                                                                                  <\/td><\/tr>\n",
       "\t<tr><td>ระบบปฏิบัติการ   <\/td><td>Android 12                                                                                          <\/td><\/tr>\n",
       "\t<tr><td>ชิปประมวลผล    <\/td><td>Samsung Exynos 850 S5E3830 2 GHz                                                                    <\/td><\/tr>\n",
       "\t<tr><td>ชิปกราฟิก       <\/td><td>Mali-G52 MP1                                                                                        <\/td><\/tr>\n",
       "\t<tr><td>หน่วยความจำ    <\/td><td>4 GB                                                                                                <\/td><\/tr>\n",
       "\t<tr><td>ความจุ         <\/td><td>64 GB                                                                                               <\/td><\/tr>\n",
       "\t<tr><td>Memory Card   <\/td><td>microSD (1)                                                                                         <\/td><\/tr>\n",
       "\t<tr><td>กล้องหลัก       <\/td><td>ตัวที่ 1: 50 MP, f\/1.8, (wide), PDAF\n",
       "ตัวที่ 2: 5 MP, f\/2.2, 123˚ (ultrawide)\n",
       "ตัวที่ 3: 2 MP, f\/2.4, (depth)<\/td><\/tr>\n",
       "\t<tr><td>ความละเอียดวีดีโอ<\/td><td>1080p@30fps                                                                                         <\/td><\/tr>\n",
       "\t<tr><td>กล้องหน้า       <\/td><td>ตัวที่ 1: 8 MP, f\/2.2, (wide)                                                                          <\/td><\/tr>\n",
       "\t<tr><td>Bluetooth     <\/td><td>5.0, A2DP, LE                                                                                       <\/td><\/tr>\n",
       "\t<tr><td>Wi-Fi         <\/td><td>802.11 a\/b\/g\/n\/ac, dual-b                                                                           <\/td><\/tr>\n",
       "\t<tr><td>USB           <\/td><td>Type-C                                                                                              <\/td><\/tr>\n",
       "\t<tr><td>GPS           <\/td><td>A-GPS, GLONASS, GALILEO,                                                                            <\/td><\/tr>\n",
       "\t<tr><td>NFC           <\/td><td>รอบรับ                                                                                               <\/td><\/tr>\n",
       "\t<tr><td>ความจุ         <\/td><td>5,000 mAh                                                                                           <\/td><\/tr>\n",
       "\t<tr><td>⋮<\/td><td>⋮<\/td><\/tr>\n",
       "\t<tr><td>ขนาด          <\/td><td>164.00 x 75.80 x 8.90 มม.                                                                                                           <\/td><\/tr>\n",
       "\t<tr><td>น้ำหนัก         <\/td><td>205 กรัม                                                                                                                             <\/td><\/tr>\n",
       "\t<tr><td>วัสดุ           <\/td><td>Glass front, plastic back, plastic frame                                                                                            <\/td><\/tr>\n",
       "\t<tr><td>SIM           <\/td><td>รองรับ 2 ซิมการ์ด (nano sim, nano sim)                                                                                                 <\/td><\/tr>\n",
       "\t<tr><td>Technology    <\/td><td>HSPA 42.2\/5.76 Mbps, LTE Cat4 150\/50 Mbps                                                                                           <\/td><\/tr>\n",
       "\t<tr><td>2G            <\/td><td>850\/900\/1800\/1900                                                                                                                   <\/td><\/tr>\n",
       "\t<tr><td>3G            <\/td><td>850\/900\/1900\/2100                                                                                                                   <\/td><\/tr>\n",
       "\t<tr><td>4G            <\/td><td>850\/900\/1900\/2100\/2600                                                                                                              <\/td><\/tr>\n",
       "\t<tr><td>5G            <\/td><td>-                                                                                                                                   <\/td><\/tr>\n",
       "\t<tr><td>ความเร็ว       <\/td><td>HSPA 42.2\/5.76 Mbps, LTE Cat4 150\/50 Mbps                                                                                           <\/td><\/tr>\n",
       "\t<tr><td>ประเภท        <\/td><td>IPS LCD                                                                                                                             <\/td><\/tr>\n",
       "\t<tr><td>ขนาดหน้าจอ     <\/td><td>6.50 นิ้ว                                                                                                                             <\/td><\/tr>\n",
       "\t<tr><td>ความละเอียด    <\/td><td>720 x 1600 pixels                                                                                                                   <\/td><\/tr>\n",
       "\t<tr><td>ระบบปฏิบัติการ   <\/td><td>Android 11                                                                                                                          <\/td><\/tr>\n",
       "\t<tr><td>ชิปประมวลผล    <\/td><td>Samsung Exynos 850 S5E3830 2 GHz                                                                                                    <\/td><\/tr>\n",
       "\t<tr><td>ชิปกราฟิก       <\/td><td>Mali-G52 MP1                                                                                                                        <\/td><\/tr>\n",
       "\t<tr><td>หน่วยความจำ    <\/td><td>4 GB                                                                                                                                <\/td><\/tr>\n",
       "\t<tr><td>ความจุ         <\/td><td>128 GB                                                                                                                              <\/td><\/tr>\n",
       "\t<tr><td>Memory Card   <\/td><td>ไม่รองรับ                                                                                                                             <\/td><\/tr>\n",
       "\t<tr><td>กล้องหลัก       <\/td><td>ตัวที่ 1: 48 MP, f\/2.0, 26mm (wide), AF\n",
       "ตัวที่ 2: 5 MP, f\/2.2, 123˚ (ultrawide)\n",
       "ตัวที่ 3: 2 MP, f\/2.4, (macro)\n",
       "ตัวที่ 4: 2 MP, f\/2.4, (depth)<\/td><\/tr>\n",
       "\t<tr><td>ความละเอียดวีดีโอ<\/td><td>1080p@30fps                                                                                                                         <\/td><\/tr>\n",
       "\t<tr><td>กล้องหน้า       <\/td><td>ตัวที่ 1: 8 MP, f\/2.2                                                                                                                  <\/td><\/tr>\n",
       "\t<tr><td>Bluetooth     <\/td><td>5.0, A2DP, LE                                                                                                                       <\/td><\/tr>\n",
       "\t<tr><td>Wi-Fi         <\/td><td>802.11 b\/g\/n, Wi-Fi Direc                                                                                                           <\/td><\/tr>\n",
       "\t<tr><td>USB           <\/td><td>Type-C                                                                                                                              <\/td><\/tr>\n",
       "\t<tr><td>GPS           <\/td><td>with A-GPS, GLONASS, GALI                                                                                                           <\/td><\/tr>\n",
       "\t<tr><td>NFC           <\/td><td>ไม่รองรับ                                                                                                                             <\/td><\/tr>\n",
       "\t<tr><td>ความจุ         <\/td><td>5,000 mAh                                                                                                                           <\/td><\/tr>\n",
       "\t<tr><td>ประเภท        <\/td><td>Non-removable Li-Po Batt                                                                                                            <\/td><\/tr>\n",
       "\t<tr><td>Fast Charging <\/td><td>รองรับ (15W)                                                                                                                         <\/td><\/tr>\n",
       "<\/tbody>\n",
       "<\/table>\n"
      ]
     },
     "metadata":{
      
     },
     "output_type":"display_data"
    }
   ],
   "metadata":{
    "datalore":{
     "node_id":"TiUE9vjs5401KLJOYHY7MO",
     "type":"CODE",
     "hide_input_from_viewers":false,
     "hide_output_from_viewers":false
    }
   }
  }
 ],
 "metadata":{
  "kernelspec":{
   "display_name":"R",
   "language":"r",
   "name":"ir"
  },
  "datalore":{
   "version":1,
   "computation_mode":"JUPYTER",
   "package_manager":"conda",
   "base_environment":"minimal",
   "packages":[
    
   ]
  }
 },
 "nbformat":4,
 "nbformat_minor":4
}