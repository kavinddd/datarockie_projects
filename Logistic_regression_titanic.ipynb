{
 "cells":[
  {
   "cell_type":"markdown",
   "source":[
    "# Import libraries"
   ],
   "attachments":{
    
   },
   "metadata":{
    "datalore":{
     "node_id":"PfNXIqELIxTFgyCCa8smqB",
     "type":"MD",
     "hide_input_from_viewers":true,
     "hide_output_from_viewers":true,
     "report_properties":{
      
     }
    }
   }
  },
  {
   "cell_type":"code",
   "source":[
    "\n",
    "library(tidyverse)\n",
    "library(titanic)"
   ],
   "execution_count":12,
   "outputs":[
    {
     "name":"stderr",
     "text":[
      "Warning message in system(\"timedatectl\", intern = TRUE):\n",
      "“running command 'timedatectl' had status 1”\n",
      "Warning message:\n",
      "“Failed to locate timezone database”\n",
      "── \u001b[1mAttaching packages\u001b[22m ─────────────────────────────────────── tidyverse 1.3.1 ──\n",
      "\n",
      "\u001b[32m✔\u001b[39m \u001b[34mggplot2\u001b[39m 3.3.5     \u001b[32m✔\u001b[39m \u001b[34mpurrr  \u001b[39m 0.3.4\n",
      "\u001b[32m✔\u001b[39m \u001b[34mtibble \u001b[39m 3.1.5     \u001b[32m✔\u001b[39m \u001b[34mdplyr  \u001b[39m 1.0.7\n",
      "\u001b[32m✔\u001b[39m \u001b[34mtidyr  \u001b[39m 1.1.4     \u001b[32m✔\u001b[39m \u001b[34mstringr\u001b[39m 1.4.0\n",
      "\u001b[32m✔\u001b[39m \u001b[34mreadr  \u001b[39m 2.0.2     \u001b[32m✔\u001b[39m \u001b[34mforcats\u001b[39m 0.5.1\n",
      "\n",
      "── \u001b[1mConflicts\u001b[22m ────────────────────────────────────────── tidyverse_conflicts() ──\n",
      "\u001b[31m✖\u001b[39m \u001b[34mdplyr\u001b[39m::\u001b[32mfilter()\u001b[39m  masks \u001b[34mstats\u001b[39m::filter()\n",
      "\u001b[31m✖\u001b[39m \u001b[34mpurrr\u001b[39m::\u001b[32mflatten()\u001b[39m masks \u001b[34mjsonlite\u001b[39m::flatten()\n",
      "\u001b[31m✖\u001b[39m \u001b[34mdplyr\u001b[39m::\u001b[32mlag()\u001b[39m     masks \u001b[34mstats\u001b[39m::lag()\n",
      "\n"
     ],
     "output_type":"stream"
    }
   ],
   "metadata":{
    "datalore":{
     "node_id":"YH7P7Rvl9BvwGYQBScf9in",
     "type":"CODE",
     "hide_input_from_viewers":true,
     "hide_output_from_viewers":true,
     "report_properties":{
      
     }
    }
   }
  },
  {
   "cell_type":"markdown",
   "source":[
    "# Prepare and cleaning\n",
    "- Cleaning missing value\n",
    "- Changing appropriate data type"
   ],
   "attachments":{
    
   },
   "metadata":{
    "datalore":{
     "node_id":"f8ZBwjaqtiXjhHfofr4NWw",
     "type":"MD",
     "hide_input_from_viewers":false,
     "hide_output_from_viewers":false,
     "report_properties":{
      
     }
    }
   }
  },
  {
   "cell_type":"code",
   "source":[
    "\n",
    "# Clean missing data\n",
    "titanic_train %>% apply(FUN = function(col) sum(is.na(col)), MARGIN=2)\n",
    "## 177rows that Age are missing\n",
    "\n",
    "# Drop all rows containing missing data\n",
    "df <- titanic_train %>% na.omit()\n",
    "\n",
    "df %>% apply(FUN = function(col) sum(is.na(col)), MARGIN=2)"
   ],
   "execution_count":13,
   "outputs":[
    {
     "data":{
      "text\/html":[
       "<style>\n",
       ".dl-inline {width: auto; margin:0; padding: 0}\n",
       ".dl-inline>dt, .dl-inline>dd {float: none; width: auto; display: inline-block}\n",
       ".dl-inline>dt::after {content: \":\\0020\"; padding-right: .5ex}\n",
       ".dl-inline>dt:not(:first-of-type) {padding-left: .5ex}\n",
       "<\/style><dl class=dl-inline><dt>PassengerId<\/dt><dd>0<\/dd><dt>Survived<\/dt><dd>0<\/dd><dt>Pclass<\/dt><dd>0<\/dd><dt>Name<\/dt><dd>0<\/dd><dt>Sex<\/dt><dd>0<\/dd><dt>Age<\/dt><dd>177<\/dd><dt>SibSp<\/dt><dd>0<\/dd><dt>Parch<\/dt><dd>0<\/dd><dt>Ticket<\/dt><dd>0<\/dd><dt>Fare<\/dt><dd>0<\/dd><dt>Cabin<\/dt><dd>0<\/dd><dt>Embarked<\/dt><dd>0<\/dd><\/dl>\n"
      ]
     },
     "metadata":{
      
     },
     "output_type":"display_data"
    },
    {
     "data":{
      "text\/html":[
       "<style>\n",
       ".dl-inline {width: auto; margin:0; padding: 0}\n",
       ".dl-inline>dt, .dl-inline>dd {float: none; width: auto; display: inline-block}\n",
       ".dl-inline>dt::after {content: \":\\0020\"; padding-right: .5ex}\n",
       ".dl-inline>dt:not(:first-of-type) {padding-left: .5ex}\n",
       "<\/style><dl class=dl-inline><dt>PassengerId<\/dt><dd>0<\/dd><dt>Survived<\/dt><dd>0<\/dd><dt>Pclass<\/dt><dd>0<\/dd><dt>Name<\/dt><dd>0<\/dd><dt>Sex<\/dt><dd>0<\/dd><dt>Age<\/dt><dd>0<\/dd><dt>SibSp<\/dt><dd>0<\/dd><dt>Parch<\/dt><dd>0<\/dd><dt>Ticket<\/dt><dd>0<\/dd><dt>Fare<\/dt><dd>0<\/dd><dt>Cabin<\/dt><dd>0<\/dd><dt>Embarked<\/dt><dd>0<\/dd><\/dl>\n"
      ]
     },
     "metadata":{
      
     },
     "output_type":"display_data"
    }
   ],
   "metadata":{
    "datalore":{
     "node_id":"NArsqrjQyvgon62gEDRsRp",
     "type":"CODE",
     "hide_input_from_viewers":false,
     "hide_output_from_viewers":false,
     "report_properties":{
      
     }
    }
   }
  },
  {
   "cell_type":"code",
   "source":[
    "# Change categorical data to factor type\n",
    "categorical_data <- c('Survived', 'Pclass', 'Sex', 'SibSp', 'Parch', 'Embarked')\n",
    "for (cate in categorical_data){\n",
    "  df[[cate]] <- factor(df[[cate]])\n",
    "}\n",
    "df %>% glimpse()"
   ],
   "execution_count":14,
   "outputs":[
    {
     "name":"stdout",
     "text":[
      "Rows: 714\n",
      "Columns: 12\n",
      "$ PassengerId \u001b[3m\u001b[90m<int>\u001b[39m\u001b[23m 1, 2, 3, 4, 5, 7, 8, 9, 10, 11, 12, 13, 14, 15, 16, 17, 19…\n",
      "$ Survived    \u001b[3m\u001b[90m<fct>\u001b[39m\u001b[23m 0, 1, 1, 1, 0, 0, 0, 1, 1, 1, 1, 0, 0, 0, 1, 0, 0, 0, 1, 1…\n",
      "$ Pclass      \u001b[3m\u001b[90m<fct>\u001b[39m\u001b[23m 3, 1, 3, 1, 3, 1, 3, 3, 2, 3, 1, 3, 3, 3, 2, 3, 3, 2, 2, 3…\n",
      "$ Name        \u001b[3m\u001b[90m<chr>\u001b[39m\u001b[23m \"Braund, Mr. Owen Harris\", \"Cumings, Mrs. John Bradley (Fl…\n",
      "$ Sex         \u001b[3m\u001b[90m<fct>\u001b[39m\u001b[23m male, female, female, female, male, male, male, female, fe…\n",
      "$ Age         \u001b[3m\u001b[90m<dbl>\u001b[39m\u001b[23m 22, 38, 26, 35, 35, 54, 2, 27, 14, 4, 58, 20, 39, 14, 55, …\n",
      "$ SibSp       \u001b[3m\u001b[90m<fct>\u001b[39m\u001b[23m 1, 1, 0, 1, 0, 0, 3, 0, 1, 1, 0, 0, 1, 0, 0, 4, 1, 0, 0, 0…\n",
      "$ Parch       \u001b[3m\u001b[90m<fct>\u001b[39m\u001b[23m 0, 0, 0, 0, 0, 0, 1, 2, 0, 1, 0, 0, 5, 0, 0, 1, 0, 0, 0, 0…\n",
      "$ Ticket      \u001b[3m\u001b[90m<chr>\u001b[39m\u001b[23m \"A\/5 21171\", \"PC 17599\", \"STON\/O2. 3101282\", \"113803\", \"37…\n",
      "$ Fare        \u001b[3m\u001b[90m<dbl>\u001b[39m\u001b[23m 7.2500, 71.2833, 7.9250, 53.1000, 8.0500, 51.8625, 21.0750…\n",
      "$ Cabin       \u001b[3m\u001b[90m<chr>\u001b[39m\u001b[23m \"\", \"C85\", \"\", \"C123\", \"\", \"E46\", \"\", \"\", \"\", \"G6\", \"C103\"…\n",
      "$ Embarked    \u001b[3m\u001b[90m<fct>\u001b[39m\u001b[23m S, C, S, S, S, S, S, S, C, S, S, S, S, S, S, Q, S, S, S, Q…\n"
     ],
     "output_type":"stream"
    }
   ],
   "metadata":{
    "datalore":{
     "node_id":"6cQfTAtP4DXObYNZbnWVLL",
     "type":"CODE",
     "hide_input_from_viewers":false,
     "hide_output_from_viewers":false,
     "report_properties":{
      
     }
    }
   }
  },
  {
   "cell_type":"markdown",
   "source":[
    "# Split data\n",
    "70:30 (Train:Test)"
   ],
   "attachments":{
    
   },
   "metadata":{
    "datalore":{
     "node_id":"68pqPXPrub7mmDXOOEwFFZ",
     "type":"MD",
     "hide_input_from_viewers":false,
     "hide_output_from_viewers":false,
     "report_properties":{
      
     }
    }
   }
  },
  {
   "cell_type":"code",
   "source":[
    "set.seed(52)\n",
    "train_row <- sample(1:nrow(df), size = (0.7 * nrow(df)))\n",
    "train_data<- df[train_row,]\n",
    "test_data <- df[-train_row, ]\n",
    "cat('Total rows:', nrow(df))\n",
    "cat('\\nTrain data rows:', nrow(train_data))\n",
    "cat('\\nTest data rows:', nrow(test_data))"
   ],
   "execution_count":16,
   "outputs":[
    {
     "name":"stdout",
     "text":[
      "Total rows: 714\n",
      "Train data rows: 499\n",
      "Test data rows: 215"
     ],
     "output_type":"stream"
    }
   ],
   "metadata":{
    "datalore":{
     "node_id":"2OKwCRzGkyMUN8n0tZYvY5",
     "type":"CODE",
     "hide_input_from_viewers":false,
     "hide_output_from_viewers":false,
     "report_properties":{
      
     }
    }
   }
  },
  {
   "cell_type":"markdown",
   "source":[
    "# Build a logistic regression model\n",
    "1 dependent variables\n",
    "- Survived\n",
    "\n",
    "<br>4 independent variables\n",
    "- Age\n",
    "- Pclass\n",
    "- Sex\n",
    "- SibSp \n",
    "\n",
    "<br> Threshold = 0.55"
   ],
   "attachments":{
    
   },
   "metadata":{
    "datalore":{
     "node_id":"t41wZCts8V60yF4Vcq32B5",
     "type":"MD",
     "hide_input_from_viewers":false,
     "hide_output_from_viewers":false,
     "report_properties":{
      
     }
    }
   }
  },
  {
   "cell_type":"code",
   "source":[
    "model <- glm(Survived ~ Age+Pclass+Sex+SibSp,\n",
    "             data = train_data, family='binomial')\n",
    "model %>% summary()"
   ],
   "execution_count":17,
   "outputs":[
    {
     "data":{
      "text\/plain":[
       "\n",
       "Call:\n",
       "glm(formula = Survived ~ Age + Pclass + Sex + SibSp, family = \"binomial\", \n",
       "    data = train_data)\n",
       "\n",
       "Deviance Residuals: \n",
       "    Min       1Q   Median       3Q      Max  \n",
       "-2.9568  -0.6192  -0.3919   0.6094   2.3426  \n",
       "\n",
       "Coefficients:\n",
       "             Estimate Std. Error z value Pr(>|z|)    \n",
       "(Intercept)   4.48945    0.55329   8.114 4.89e-16 ***\n",
       "Age          -0.04968    0.01004  -4.947 7.55e-07 ***\n",
       "Pclass2      -1.49594    0.34778  -4.301 1.70e-05 ***\n",
       "Pclass3      -2.56797    0.34158  -7.518 5.57e-14 ***\n",
       "Sexmale      -2.59057    0.26096  -9.927  < 2e-16 ***\n",
       "SibSp1       -0.03148    0.27112  -0.116   0.9076    \n",
       "SibSp2       -1.10539    0.71695  -1.542   0.1231    \n",
       "SibSp3       -0.51770    1.12024  -0.462   0.6440    \n",
       "SibSp4       -1.57576    0.92585  -1.702   0.0888 .  \n",
       "SibSp5      -15.58800  745.09904  -0.021   0.9833    \n",
       "---\n",
       "Signif. codes:  0 ‘***’ 0.001 ‘**’ 0.01 ‘*’ 0.05 ‘.’ 0.1 ‘ ’ 1\n",
       "\n",
       "(Dispersion parameter for binomial family taken to be 1)\n",
       "\n",
       "    Null deviance: 678.55  on 498  degrees of freedom\n",
       "Residual deviance: 443.39  on 489  degrees of freedom\n",
       "AIC: 463.39\n",
       "\n",
       "Number of Fisher Scoring iterations: 14\n"
      ]
     },
     "metadata":{
      
     },
     "output_type":"display_data"
    }
   ],
   "metadata":{
    "datalore":{
     "node_id":"OBzoVl9XVRhI4oNe43vJ5r",
     "type":"CODE",
     "hide_input_from_viewers":false,
     "hide_output_from_viewers":false,
     "report_properties":{
      
     }
    }
   }
  },
  {
   "cell_type":"code",
   "source":[
    "# Predict\n",
    "train_data$predicted_probability <- model %>% predict(type='response')\n",
    "\n",
    "# Threshold = 0.55\n",
    "threshold <- 0.55\n",
    "train_data$predicted_survived <- if_else(train_data$predicted_probability > threshold,1,0)"
   ],
   "execution_count":18,
   "outputs":[
    
   ],
   "metadata":{
    "datalore":{
     "node_id":"wrZVHCJG7lVVaP3BPXHAZk",
     "type":"CODE",
     "hide_input_from_viewers":false,
     "hide_output_from_viewers":false,
     "report_properties":{
      
     }
    }
   }
  },
  {
   "cell_type":"markdown",
   "source":[
    "## Evaluating model\n",
    "Create a confusion matrix and calculate acc, precision, recall, f1-score"
   ],
   "attachments":{
    
   },
   "metadata":{
    "datalore":{
     "node_id":"fttWCSaV3at7bu2r9Z9BN5",
     "type":"MD",
     "hide_input_from_viewers":false,
     "hide_output_from_viewers":false,
     "report_properties":{
      
     }
    }
   }
  },
  {
   "cell_type":"code",
   "source":[
    "(conf_matrix <- table(train_data$Survived, train_data$predicted_survived,\n",
    "                      dnn = c(\"Actual\",\"Predict\")))\n",
    "accuracy <- (conf_matrix[1,1] + conf_matrix[2,2]) \/ sum(conf_matrix)\n",
    "precision <- conf_matrix[2,2] \/ (conf_matrix[2,2] + conf_matrix[1,2])\n",
    "recall <- conf_matrix[2,2] \/ (conf_matrix[2,2] + conf_matrix[2,1])\n",
    "f1_score <- 2 * precision * recall \/ (precision + recall)\n",
    "cat(\"Accuracy:\", accuracy, \"\\nPrecision:\", precision,\"\\nRecall:\", recall, \"\\nF1-Score:\",f1_score)\n"
   ],
   "execution_count":29,
   "outputs":[
    {
     "name":"stdout",
     "text":[
      "Accuracy: 0.8096192 \n",
      "Precision: 0.8097826 \n",
      "Recall: 0.7129187 \n",
      "F1-Score: 0.7582697"
     ],
     "output_type":"stream"
    },
    {
     "data":{
      "text\/plain":[
       "      Predict\n",
       "Actual   0   1\n",
       "     0 255  35\n",
       "     1  60 149"
      ]
     },
     "metadata":{
      
     },
     "output_type":"display_data"
    }
   ],
   "metadata":{
    "datalore":{
     "node_id":"5QA37zTBy3aR5zBO81j1Re",
     "type":"CODE",
     "hide_input_from_viewers":false,
     "hide_output_from_viewers":false,
     "report_properties":{
      
     }
    }
   }
  },
  {
   "cell_type":"markdown",
   "source":[
    "## Applying the model the test data\n",
    "using the model with test data with the same threshold"
   ],
   "attachments":{
    
   },
   "metadata":{
    "datalore":{
     "node_id":"Sz9CjnhJptVIZ4i79a1HfL",
     "type":"MD",
     "hide_input_from_viewers":false,
     "hide_output_from_viewers":false,
     "report_properties":{
      
     }
    }
   }
  },
  {
   "cell_type":"code",
   "source":[
    "test_data$predicted_probability <- predict(object=model, type='response',\n",
    "                                           newdata = test_data)\n",
    "test_data$predicted_survived <- if_else(test_data$predicted_probability > threshold,1,0)"
   ],
   "execution_count":32,
   "outputs":[
    
   ],
   "metadata":{
    "datalore":{
     "node_id":"jYiSslYV89nnD6zL7O6Eek",
     "type":"CODE",
     "hide_input_from_viewers":false,
     "hide_output_from_viewers":false,
     "report_properties":{
      
     }
    }
   }
  },
  {
   "cell_type":"markdown",
   "source":[
    "**Evaluate the model to test data**\n",
    "<br> Create a confusion matrix and calculate the accuracy, precision, recall, f1-score again. We are expecting the similar result with train data."
   ],
   "attachments":{
    
   },
   "metadata":{
    "datalore":{
     "node_id":"wGxT7W1NJpwlQANIZZku37",
     "type":"MD",
     "hide_input_from_viewers":false,
     "hide_output_from_viewers":false,
     "report_properties":{
      
     }
    }
   }
  },
  {
   "cell_type":"code",
   "source":[
    "(conf_matrix <- table(test_data$Survived, test_data$predicted_survived,\n",
    "                      dnn = c(\"Actual\",\"Predict\")))\n",
    "accuracy_test <- (conf_matrix[1,1] + conf_matrix[2,2]) \/ sum(conf_matrix)\n",
    "precision_test <- conf_matrix[2,2] \/ (conf_matrix[2,2] + conf_matrix[1,2])\n",
    "recall_test <- conf_matrix[2,2] \/ (conf_matrix[2,2] + conf_matrix[2,1])\n",
    "f1_score_test <- 2 * precision_test * recall_test \/ (precision_test + recall_test)\n",
    "cat(\"Accuracy:\", accuracy_test, \"\\nPrecision:\", precision_test,\"\\nRecall:\", recall_test, \"\\nF1-Score:\",f1_score_test)"
   ],
   "execution_count":35,
   "outputs":[
    {
     "name":"stdout",
     "text":[
      "Accuracy: 0.8 \n",
      "Precision: 0.7111111 \n",
      "Recall: 0.7901235 \n",
      "F1-Score: 0.748538"
     ],
     "output_type":"stream"
    },
    {
     "data":{
      "text\/plain":[
       "      Predict\n",
       "Actual   0   1\n",
       "     0 108  26\n",
       "     1  17  64"
      ]
     },
     "metadata":{
      
     },
     "output_type":"display_data"
    }
   ],
   "metadata":{
    "datalore":{
     "node_id":"xs6kY48l6hxhlFt8o7t8BI",
     "type":"CODE",
     "hide_input_from_viewers":false,
     "hide_output_from_viewers":false,
     "report_properties":{
      
     }
    }
   }
  },
  {
   "cell_type":"markdown",
   "source":[
    "## Summarise the model\n",
    "The result from both test and train data were similar, so the model is working!"
   ],
   "attachments":{
    
   },
   "metadata":{
    "datalore":{
     "node_id":"E0yLkOmeNP0bY2777AgoDp",
     "type":"MD",
     "hide_input_from_viewers":false,
     "hide_output_from_viewers":false,
     "report_properties":{
      
     }
    }
   }
  },
  {
   "cell_type":"code",
   "source":[
    "# Creating summary data frame in wide format\n",
    "summary_model <- data.frame(\n",
    "  Type = c('Train', 'Test'),\n",
    "  Accuracy = c(accuracy, accuracy_test),\n",
    "  Precision = c(precision, precision_test),\n",
    "  Recall = c(recall, recall_test),\n",
    "  F1_Score = c(f1_score, f1_score_test)\n",
    ")\n",
    "# Turn to long format to plot\n",
    "long_format <- summary_model %>%\n",
    "  pivot_longer(-Type ,\n",
    "                names_to = \"acc_type\",\n",
    "                values_to = \"percentage\")\n",
    "\n",
    "# Plot results\n",
    "print(summary_model)\n",
    "ggplot(data=long_format,\n",
    "       mapping =  aes(x=acc_type, y=percentage, fill = Type)) +\n",
    "  geom_bar(stat='identity', position = 'dodge')"
   ],
   "execution_count":37,
   "outputs":[
    {
     "name":"stdout",
     "text":[
      "   Type  Accuracy Precision    Recall  F1_Score\n",
      "1 Train 0.8096192 0.8097826 0.7129187 0.7582697\n",
      "2  Test 0.8000000 0.7111111 0.7901235 0.7485380\n"
     ],
     "output_type":"stream"
    },
    {
     "data":{
      "image\/png":"[encoded data removed]"
     },
     "metadata":{
      "image\/png":{
       "width":420,
       "height":420
      }
     },
     "output_type":"display_data"
    }
   ],
   "metadata":{
    "datalore":{
     "node_id":"PJrQnLzWUjd2EK3mtMnwLs",
     "type":"CODE",
     "hide_input_from_viewers":false,
     "hide_output_from_viewers":false,
     "report_properties":{
      
     }
    }
   }
  }
 ],
 "metadata":{
  "kernelspec":{
   "display_name":"R",
   "language":"r",
   "name":"ir"
  },
  "datalore":{
   "version":1,
   "computation_mode":"JUPYTER",
   "package_manager":"conda",
   "base_environment":"minimal",
   "packages":[
    
   ]
  }
 },
 "nbformat":4,
 "nbformat_minor":4
}