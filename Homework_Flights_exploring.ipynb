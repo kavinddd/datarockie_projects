{
 "cells":[
  {
   "cell_type":"markdown",
   "source":[
    "# Homework"
   ],
   "attachments":{
    
   },
   "metadata":{
    "datalore":{
     "node_id":"4x61O4vRoLHhEMEd2ZV1em",
     "type":"MD",
     "hide_input_from_viewers":false,
     "hide_output_from_viewers":false
    }
   }
  },
  {
   "cell_type":"code",
   "source":[
    "library(tidyverse)\n",
    "df <- read.csv(\"flights.csv\")\n",
    "df %>% glimpse()"
   ],
   "execution_count":null,
   "outputs":[
    {
     "name":"stdout",
     "text":[
      "Rows: 336,776\n",
      "Columns: 19\n",
      "$ year           \u001b[3m\u001b[90m<int>\u001b[39m\u001b[23m 2013, 2013, 2013, 2013, 2013, 2013, 2013, 2013, 2013, 2…\n",
      "$ month          \u001b[3m\u001b[90m<int>\u001b[39m\u001b[23m 1, 1, 1, 1, 1, 1, 1, 1, 1, 1, 1, 1, 1, 1, 1, 1, 1, 1, 1…\n",
      "$ day            \u001b[3m\u001b[90m<int>\u001b[39m\u001b[23m 1, 1, 1, 1, 1, 1, 1, 1, 1, 1, 1, 1, 1, 1, 1, 1, 1, 1, 1…\n",
      "$ dep_time       \u001b[3m\u001b[90m<int>\u001b[39m\u001b[23m 517, 533, 542, 544, 554, 554, 555, 557, 557, 558, 558, …\n",
      "$ sched_dep_time \u001b[3m\u001b[90m<int>\u001b[39m\u001b[23m 515, 529, 540, 545, 600, 558, 600, 600, 600, 600, 600, …\n",
      "$ dep_delay      \u001b[3m\u001b[90m<int>\u001b[39m\u001b[23m 2, 4, 2, -1, -6, -4, -5, -3, -3, -2, -2, -2, -2, -2, -1…\n",
      "$ arr_time       \u001b[3m\u001b[90m<int>\u001b[39m\u001b[23m 830, 850, 923, 1004, 812, 740, 913, 709, 838, 753, 849,…\n",
      "$ sched_arr_time \u001b[3m\u001b[90m<int>\u001b[39m\u001b[23m 819, 830, 850, 1022, 837, 728, 854, 723, 846, 745, 851,…\n",
      "$ arr_delay      \u001b[3m\u001b[90m<int>\u001b[39m\u001b[23m 11, 20, 33, -18, -25, 12, 19, -14, -8, 8, -2, -3, 7, -1…\n",
      "$ carrier        \u001b[3m\u001b[90m<chr>\u001b[39m\u001b[23m \"UA\", \"UA\", \"AA\", \"B6\", \"DL\", \"UA\", \"B6\", \"EV\", \"B6\", \"…\n",
      "$ flight         \u001b[3m\u001b[90m<int>\u001b[39m\u001b[23m 1545, 1714, 1141, 725, 461, 1696, 507, 5708, 79, 301, 4…\n",
      "$ tailnum        \u001b[3m\u001b[90m<chr>\u001b[39m\u001b[23m \"N14228\", \"N24211\", \"N619AA\", \"N804JB\", \"N668DN\", \"N394…\n",
      "$ origin         \u001b[3m\u001b[90m<chr>\u001b[39m\u001b[23m \"EWR\", \"LGA\", \"JFK\", \"JFK\", \"LGA\", \"EWR\", \"EWR\", \"LGA\",…\n",
      "$ dest           \u001b[3m\u001b[90m<chr>\u001b[39m\u001b[23m \"IAH\", \"IAH\", \"MIA\", \"BQN\", \"ATL\", \"ORD\", \"FLL\", \"IAD\",…\n",
      "$ air_time       \u001b[3m\u001b[90m<int>\u001b[39m\u001b[23m 227, 227, 160, 183, 116, 150, 158, 53, 140, 138, 149, 1…\n",
      "$ distance       \u001b[3m\u001b[90m<int>\u001b[39m\u001b[23m 1400, 1416, 1089, 1576, 762, 719, 1065, 229, 944, 733, …\n",
      "$ hour           \u001b[3m\u001b[90m<int>\u001b[39m\u001b[23m 5, 5, 5, 5, 6, 5, 6, 6, 6, 6, 6, 6, 6, 6, 6, 5, 6, 6, 6…\n",
      "$ minute         \u001b[3m\u001b[90m<int>\u001b[39m\u001b[23m 15, 29, 40, 45, 0, 58, 0, 0, 0, 0, 0, 0, 0, 0, 0, 59, 0…\n",
      "$ time_hour      \u001b[3m\u001b[90m<chr>\u001b[39m\u001b[23m \"2013-01-01T10:00:00Z\", \"2013-01-01T10:00:00Z\", \"2013-0…\n"
     ],
     "output_type":"stream"
    }
   ],
   "metadata":{
    "datalore":{
     "node_id":"MOyc1J0DAnY2X7baPEgUL6",
     "type":"CODE",
     "hide_input_from_viewers":false,
     "hide_output_from_viewers":false
    }
   }
  },
  {
   "cell_type":"markdown",
   "source":[
    "## Cleaning data"
   ],
   "attachments":{
    
   },
   "metadata":{
    "datalore":{
     "node_id":"DHcFf90MyNlCr0RA8z1mzy",
     "type":"MD",
     "hide_input_from_viewers":false,
     "hide_output_from_viewers":false
    }
   }
  },
  {
   "cell_type":"code",
   "source":[
    " sum(complete.cases(df))\/ nrow(df)\n",
    " # around 3% of rows has missing values, so let's drop them\n",
    "df <- drop_na(df) %>% tibble()"
   ],
   "execution_count":null,
   "outputs":[
    {
     "data":{
      "text\/html":[
       "0.971999192341497"
      ]
     },
     "metadata":{
      
     },
     "output_type":"display_data"
    }
   ],
   "metadata":{
    "datalore":{
     "node_id":"JcVZOWqDmT30lX40WNRPiO",
     "type":"CODE",
     "hide_input_from_viewers":false,
     "hide_output_from_viewers":false
    }
   }
  },
  {
   "cell_type":"markdown",
   "source":[
    "\n",
    "## Q1. Top 5 the most popular destinations"
   ],
   "attachments":{
    
   },
   "metadata":{
    "datalore":{
     "node_id":"4pMOIHVYqwOpvtfrXY4t6F",
     "type":"MD",
     "hide_input_from_viewers":false,
     "hide_output_from_viewers":false
    }
   }
  },
  {
   "cell_type":"code",
   "source":[
    "df %>%\n",
    "    count(dest) %>%\n",
    "    arrange(desc(n)) %>%\n",
    "    head(5)"
   ],
   "execution_count":null,
   "outputs":[
    {
     "data":{
      "text\/html":[
       "<table class=\"dataframe\">\n",
       "<caption>A tibble: 5 × 2<\/caption>\n",
       "<thead>\n",
       "\t<tr><th scope=col>dest<\/th><th scope=col>n<\/th><\/tr>\n",
       "\t<tr><th scope=col>&lt;chr&gt;<\/th><th scope=col>&lt;int&gt;<\/th><\/tr>\n",
       "<\/thead>\n",
       "<tbody>\n",
       "\t<tr><td>ATL<\/td><td>16837<\/td><\/tr>\n",
       "\t<tr><td>ORD<\/td><td>16566<\/td><\/tr>\n",
       "\t<tr><td>LAX<\/td><td>16026<\/td><\/tr>\n",
       "\t<tr><td>BOS<\/td><td>15022<\/td><\/tr>\n",
       "\t<tr><td>MCO<\/td><td>13967<\/td><\/tr>\n",
       "<\/tbody>\n",
       "<\/table>\n"
      ]
     },
     "metadata":{
      
     },
     "output_type":"display_data"
    }
   ],
   "metadata":{
    "datalore":{
     "node_id":"UELmrNQcNqLyOIpkr4zzV3",
     "type":"CODE",
     "hide_input_from_viewers":false,
     "hide_output_from_viewers":false
    }
   }
  },
  {
   "cell_type":"markdown",
   "source":[
    "## Q2. Which months people traveled a lot?"
   ],
   "attachments":{
    
   },
   "metadata":{
    "datalore":{
     "node_id":"UKz4kvxZr5RWunbhwnT6pE",
     "type":"MD",
     "hide_input_from_viewers":false,
     "hide_output_from_viewers":false
    }
   }
  },
  {
   "cell_type":"code",
   "source":[
    "df %>% \n",
    "    count(month) %>%\n",
    "    arrange(desc(n)) %>%\n",
    "    head(3)"
   ],
   "execution_count":null,
   "outputs":[
    {
     "data":{
      "text\/html":[
       "<table class=\"dataframe\">\n",
       "<caption>A tibble: 3 × 2<\/caption>\n",
       "<thead>\n",
       "\t<tr><th scope=col>month<\/th><th scope=col>n<\/th><\/tr>\n",
       "\t<tr><th scope=col>&lt;int&gt;<\/th><th scope=col>&lt;int&gt;<\/th><\/tr>\n",
       "<\/thead>\n",
       "<tbody>\n",
       "\t<tr><td> 8<\/td><td>28756<\/td><\/tr>\n",
       "\t<tr><td>10<\/td><td>28618<\/td><\/tr>\n",
       "\t<tr><td> 7<\/td><td>28293<\/td><\/tr>\n",
       "<\/tbody>\n",
       "<\/table>\n"
      ]
     },
     "metadata":{
      
     },
     "output_type":"display_data"
    }
   ],
   "metadata":{
    "datalore":{
     "node_id":"nFqHeQyN3hDkoTBKtm0RL2",
     "type":"CODE",
     "hide_input_from_viewers":false,
     "hide_output_from_viewers":false
    }
   }
  },
  {
   "cell_type":"markdown",
   "source":[
    "## Q3. Where did people go in busy months (7,8,10)"
   ],
   "attachments":{
    
   },
   "metadata":{
    "datalore":{
     "node_id":"sUtcsGSLn9icA5sLGstdHj",
     "type":"MD",
     "hide_input_from_viewers":false,
     "hide_output_from_viewers":false
    }
   }
  },
  {
   "cell_type":"code",
   "source":[
    "df %>%\n",
    "    filter(month %in% c(7,8,10)) %>%\n",
    "    group_by(month, dest) %>%\n",
    "    summarise(n = n()) %>% \n",
    "    arrange(desc(n)) %>%\n",
    "    head(9) %>% arrange(month)"
   ],
   "execution_count":null,
   "outputs":[
    {
     "name":"stderr",
     "text":[
      "`summarise()` has grouped output by 'month'. You can override using the `.groups` argument.\n",
      "\n"
     ],
     "output_type":"stream"
    },
    {
     "data":{
      "text\/html":[
       "<table class=\"dataframe\">\n",
       "<caption>A grouped_df: 9 × 3<\/caption>\n",
       "<thead>\n",
       "\t<tr><th scope=col>month<\/th><th scope=col>dest<\/th><th scope=col>n<\/th><\/tr>\n",
       "\t<tr><th scope=col>&lt;int&gt;<\/th><th scope=col>&lt;chr&gt;<\/th><th scope=col>&lt;int&gt;<\/th><\/tr>\n",
       "<\/thead>\n",
       "<tbody>\n",
       "\t<tr><td> 7<\/td><td>LAX<\/td><td>1494<\/td><\/tr>\n",
       "\t<tr><td> 7<\/td><td>ORD<\/td><td>1487<\/td><\/tr>\n",
       "\t<tr><td> 7<\/td><td>ATL<\/td><td>1448<\/td><\/tr>\n",
       "\t<tr><td> 8<\/td><td>ORD<\/td><td>1569<\/td><\/tr>\n",
       "\t<tr><td> 8<\/td><td>LAX<\/td><td>1500<\/td><\/tr>\n",
       "\t<tr><td> 8<\/td><td>ATL<\/td><td>1488<\/td><\/tr>\n",
       "\t<tr><td>10<\/td><td>ORD<\/td><td>1581<\/td><\/tr>\n",
       "\t<tr><td>10<\/td><td>ATL<\/td><td>1439<\/td><\/tr>\n",
       "\t<tr><td>10<\/td><td>LAX<\/td><td>1405<\/td><\/tr>\n",
       "<\/tbody>\n",
       "<\/table>\n"
      ]
     },
     "metadata":{
      
     },
     "output_type":"display_data"
    }
   ],
   "metadata":{
    "datalore":{
     "node_id":"6R0Uw2QFIOves62w3a20e3",
     "type":"CODE",
     "hide_input_from_viewers":false,
     "hide_output_from_viewers":false
    }
   }
  },
  {
   "cell_type":"markdown",
   "source":[
    "## Q4. Which airline delayed the most (arrival)"
   ],
   "attachments":{
    
   },
   "metadata":{
    "datalore":{
     "node_id":"lHT4J6ZOUw65iiL9jjCHIm",
     "type":"MD",
     "hide_input_from_viewers":false,
     "hide_output_from_viewers":false
    }
   }
  },
  {
   "cell_type":"code",
   "source":[
    "# Create new column is_late\n",
    "df %>%\n",
    "    mutate(is_delay = case_when(\n",
    "        arr_delay > 0 ~ T,\n",
    "        TRUE ~ F\n",
    "    )) %>%\n",
    "    select(carrier, is_delay) %>% \n",
    "    group_by(carrier) %>%\n",
    "    summarise(total_delay = sum(is_delay), total_flight = n()) %>%\n",
    "    mutate(delay_rate = (total_delay\/total_flight)) %>%\n",
    "    arrange(desc(delay_rate)) %>%\n",
    "    select(c(1,4)) %>% head(5)"
   ],
   "execution_count":null,
   "outputs":[
    {
     "data":{
      "text\/html":[
       "<table class=\"dataframe\">\n",
       "<caption>A tibble: 5 × 2<\/caption>\n",
       "<thead>\n",
       "\t<tr><th scope=col>carrier<\/th><th scope=col>delay_rate<\/th><\/tr>\n",
       "\t<tr><th scope=col>&lt;chr&gt;<\/th><th scope=col>&lt;dbl&gt;<\/th><\/tr>\n",
       "<\/thead>\n",
       "<tbody>\n",
       "\t<tr><td>FL<\/td><td>0.5968504<\/td><\/tr>\n",
       "\t<tr><td>F9<\/td><td>0.5756241<\/td><\/tr>\n",
       "\t<tr><td>EV<\/td><td>0.4790639<\/td><\/tr>\n",
       "\t<tr><td>YV<\/td><td>0.4742647<\/td><\/tr>\n",
       "\t<tr><td>MQ<\/td><td>0.4670288<\/td><\/tr>\n",
       "<\/tbody>\n",
       "<\/table>\n"
      ]
     },
     "metadata":{
      
     },
     "output_type":"display_data"
    }
   ],
   "metadata":{
    "datalore":{
     "node_id":"x4B2l4fQ8MdmBiAjjBSA2Y",
     "type":"CODE",
     "hide_input_from_viewers":false,
     "hide_output_from_viewers":false
    }
   }
  },
  {
   "cell_type":"markdown",
   "source":[
    "## Q5. How much proportion of top destinations (ATL, ORD, LAX) in total flights of each airline"
   ],
   "attachments":{
    
   },
   "metadata":{
    "datalore":{
     "node_id":"bETxGAw9dN1HQ9XRSlwg5G",
     "type":"MD",
     "hide_input_from_viewers":false,
     "hide_output_from_viewers":false
    }
   }
  },
  {
   "cell_type":"code",
   "source":[
    "top_dest <- c(\"ATL\", \"ORD\", \"LAX\")\n",
    "df %>%\n",
    "    mutate(is_top_dest = ifelse(dest %in% top_dest, T, F)) %>%\n",
    "    group_by(carrier) %>%\n",
    "    summarise(top_dest_prop = mean(is_top_dest),\n",
    "              n = n(),\n",
    "              top_dest = sum(is_top_dest)) %>%\n",
    "    arrange(desc(top_dest_prop))"
   ],
   "execution_count":null,
   "outputs":[
    {
     "data":{
      "text\/html":[
       "<table class=\"dataframe\">\n",
       "<caption>A tibble: 16 × 4<\/caption>\n",
       "<thead>\n",
       "\t<tr><th scope=col>carrier<\/th><th scope=col>top_dest_prop<\/th><th scope=col>n<\/th><th scope=col>top_dest<\/th><\/tr>\n",
       "\t<tr><th scope=col>&lt;chr&gt;<\/th><th scope=col>&lt;dbl&gt;<\/th><th scope=col>&lt;int&gt;<\/th><th scope=col>&lt;int&gt;<\/th><\/tr>\n",
       "<\/thead>\n",
       "<tbody>\n",
       "\t<tr><td>FL<\/td><td>0.717480315<\/td><td> 3175<\/td><td> 2278<\/td><\/tr>\n",
       "\t<tr><td>VX<\/td><td>0.499218139<\/td><td> 5116<\/td><td> 2554<\/td><\/tr>\n",
       "\t<tr><td>AA<\/td><td>0.293986916<\/td><td>31947<\/td><td> 9392<\/td><\/tr>\n",
       "\t<tr><td>DL<\/td><td>0.271496916<\/td><td>47658<\/td><td>12939<\/td><\/tr>\n",
       "\t<tr><td>UA<\/td><td>0.218337891<\/td><td>57782<\/td><td>12616<\/td><\/tr>\n",
       "\t<tr><td>MQ<\/td><td>0.173023925<\/td><td>25037<\/td><td> 4332<\/td><\/tr>\n",
       "\t<tr><td>9E<\/td><td>0.060136464<\/td><td>17294<\/td><td> 1040<\/td><\/tr>\n",
       "\t<tr><td>B6<\/td><td>0.047382930<\/td><td>54049<\/td><td> 2561<\/td><\/tr>\n",
       "\t<tr><td>OO<\/td><td>0.034482759<\/td><td>   29<\/td><td>    1<\/td><\/tr>\n",
       "\t<tr><td>EV<\/td><td>0.032441105<\/td><td>51108<\/td><td> 1658<\/td><\/tr>\n",
       "\t<tr><td>WN<\/td><td>0.004815676<\/td><td>12044<\/td><td>   58<\/td><\/tr>\n",
       "\t<tr><td>AS<\/td><td>0.000000000<\/td><td>  709<\/td><td>    0<\/td><\/tr>\n",
       "\t<tr><td>F9<\/td><td>0.000000000<\/td><td>  681<\/td><td>    0<\/td><\/tr>\n",
       "\t<tr><td>HA<\/td><td>0.000000000<\/td><td>  342<\/td><td>    0<\/td><\/tr>\n",
       "\t<tr><td>US<\/td><td>0.000000000<\/td><td>19831<\/td><td>    0<\/td><\/tr>\n",
       "\t<tr><td>YV<\/td><td>0.000000000<\/td><td>  544<\/td><td>    0<\/td><\/tr>\n",
       "<\/tbody>\n",
       "<\/table>\n"
      ]
     },
     "metadata":{
      
     },
     "output_type":"display_data"
    }
   ],
   "metadata":{
    "datalore":{
     "node_id":"W8Vu3RSQhls78JU3Hl0csb",
     "type":"CODE",
     "hide_input_from_viewers":false,
     "hide_output_from_viewers":false
    }
   }
  },
  {
   "cell_type":"markdown",
   "source":[
    "# Database connection (PostgreSQL)"
   ],
   "attachments":{
    
   },
   "metadata":{
    "datalore":{
     "node_id":"dPDqi9GFfCp6yCiMeAxK8K",
     "type":"MD",
     "hide_input_from_viewers":false,
     "hide_output_from_viewers":false
    }
   }
  },
  {
   "cell_type":"markdown",
   "source":[
    "### Create 3 Dataframes"
   ],
   "attachments":{
    
   },
   "metadata":{
    "datalore":{
     "node_id":"tlgldCaSB132UndyqI5tKD",
     "type":"MD",
     "hide_input_from_viewers":false,
     "hide_output_from_viewers":false
    }
   }
  },
  {
   "cell_type":"code",
   "source":[
    "students <- data.frame(\n",
    "    std_id <- 1:3,\n",
    "    firstname = c(\"Somchai\", \"Somchit\", \"Somnamnha\"),\n",
    "    lastname = c(\"Mhaihua\", \"Ridsiduang\", \"Ibaharoi\"),\n",
    "    age = c(50, 20, 12)\n",
    ")\n",
    "\n",
    "bridge <- data.frame(\n",
    "    std_id = c(1, 1, 1, 2, 2, 3),\n",
    "    skills_id = c(1, 2, 3, 3, 1, 3)\n",
    ")\n",
    "\n",
    "skills <- data.frame(\n",
    "    skills_id = 1:3,\n",
    "    skills = c(\"Python\", \"R\", \"SQL\")\n",
    ")"
   ],
   "execution_count":null,
   "outputs":[
    
   ],
   "metadata":{
    "datalore":{
     "node_id":"KRL55608hRP8bhGUDbWzxf",
     "type":"CODE",
     "hide_input_from_viewers":false,
     "hide_output_from_viewers":false
    }
   }
  },
  {
   "cell_type":"markdown",
   "source":[
    "### Connect to the database"
   ],
   "attachments":{
    
   },
   "metadata":{
    "datalore":{
     "node_id":"YGtiUAKZZweDv1lua2pJZi",
     "type":"MD",
     "hide_input_from_viewers":false,
     "hide_output_from_viewers":false
    }
   }
  },
  {
   "cell_type":"code",
   "source":[
    "library(RPostgreSQL)"
   ],
   "execution_count":null,
   "outputs":[
    {
     "ename":"ERROR",
     "evalue":"ERROR: ERROR: Error in library(RPostgreSQL): there is no package called ‘RPostgreSQL’\n",
     "traceback":[
      "\u001b[0;31m---------------------------------------------------------------------------",
      "Traceback (most recent call last)",
      "ERROR: ERROR: Error in library(RPostgreSQL): there is no package called ‘RPostgreSQL’\n"
     ],
     "output_type":"error"
    }
   ],
   "metadata":{
    "datalore":{
     "node_id":"vGproNtsdgvguL7oU2tsPu",
     "type":"CODE",
     "hide_input_from_viewers":false,
     "hide_output_from_viewers":false
    }
   }
  }
 ],
 "metadata":{
  "kernelspec":{
   "display_name":"R",
   "language":"r",
   "name":"ir"
  },
  "datalore":{
   "version":1,
   "computation_mode":"JUPYTER",
   "package_manager":"conda",
   "base_environment":"minimal",
   "packages":[
    {
     "name":"r-rpostgresql",
     "version":"0.7_4",
     "source":"CONDA"
    }
   ]
  }
 },
 "nbformat":4,
 "nbformat_minor":4
}