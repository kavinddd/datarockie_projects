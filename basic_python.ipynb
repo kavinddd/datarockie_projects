{
 "cells": [
  {
   "cell_type": "markdown",
   "id": "abc68999",
   "metadata": {},
   "source": [
    "# Homework\n",
    "Homework of Introduction to python in datarockie bootcamp. (2022/11/12)"
   ]
  },
  {
   "cell_type": "markdown",
   "id": "fc3c3c0d",
   "metadata": {},
   "source": [
    "## Pao Ying Chub\n",
    "Building a rock paper scissors game with basic python"
   ]
  },
  {
   "cell_type": "code",
   "execution_count": 4,
   "id": "246c70eb",
   "metadata": {},
   "outputs": [],
   "source": [
    "from random import choice\n",
    "\n",
    "def result(computer, player, player_result):\n",
    "    print(f'{computer} vs {player}')\n",
    "    if computer == player:\n",
    "        print(\"Draw\")\n",
    "        player_result[\"Tie\"] += 1\n",
    "        \n",
    "    elif (computer == 'Scissor' and player == 'Paper')\\\n",
    "      or (computer == 'Paper' and player == 'Rock')\\\n",
    "      or (computer == 'Rock' and player =='Scissor'):\n",
    "        print(\"You Lose!\")\n",
    "        player_result['Lose'] += 1\n",
    "        \n",
    "    else:\n",
    "        print(\"You Win!!\")\n",
    "        player_result['Win'] += 1\n",
    "        \n",
    "    return player_result\n",
    "\n",
    "def play():\n",
    "    paoyingchub = {1:'Scissor', 2:'Paper', 3:'Rock'}\n",
    "    computer = choice(list(range(1,4)))\n",
    "    \n",
    "    try:\n",
    "        player = int(input(\"1 : Scissor | 2 : Paper | 3 : Rock | 0 : Stop\\n\"))\n",
    "    except:\n",
    "        print('Please put only number between 0 and 3')\n",
    "    if player == 0:\n",
    "        return(None, player)\n",
    "    elif player not in [1,2,3]:\n",
    "        print('Please put only number between 1 and 3')\n",
    "    else:\n",
    "        return(paoyingchub[computer],paoyingchub[player])\n",
    "\n",
    "def start():\n",
    "    player_result = {'Win':0, 'Lose':0, 'Tie':0}\n",
    "    while True:\n",
    "        try:\n",
    "            computer, player = play()\n",
    "        except:\n",
    "            continue\n",
    "            \n",
    "        if player == 0:\n",
    "            break\n",
    "        else:\n",
    "            player_result = result(computer,player, player_result)\n",
    "            print(player_result)\n",
    "            print(\"*\"*30)\n",
    "\n",
    "    # Show a result\n",
    "    print(f\"Total rounds = {sum(player_result.values())}\")\n",
    "    for key, value in player_result.items():\n",
    "        if key == 'Win':\n",
    "            print(f'You won : {value} times')\n",
    "        elif key == 'Lose':\n",
    "            print(f'You lost : {value} times')\n",
    "        else:\n",
    "            print(f'Tied : {value} times')"
   ]
  },
  {
   "cell_type": "markdown",
   "id": "41b403aa",
   "metadata": {},
   "source": [
    "### Let's test it\n",
    "using start() function to start playing"
   ]
  },
  {
   "cell_type": "code",
   "execution_count": 5,
   "id": "502a6f1c",
   "metadata": {},
   "outputs": [
    {
     "name": "stdout",
     "output_type": "stream",
     "text": [
      "1 : Scissor | 2 : Paper | 3 : Rock | 0 : Stop\n",
      "1\n",
      "Rock vs Scissor\n",
      "You Lose!\n",
      "{'Win': 0, 'Lose': 1, 'Tie': 0}\n",
      "******************************\n",
      "1 : Scissor | 2 : Paper | 3 : Rock | 0 : Stop\n",
      "3\n",
      "Paper vs Rock\n",
      "You Lose!\n",
      "{'Win': 0, 'Lose': 2, 'Tie': 0}\n",
      "******************************\n",
      "1 : Scissor | 2 : Paper | 3 : Rock | 0 : Stop\n",
      "4\n",
      "Please put only number between 1 and 3\n",
      "1 : Scissor | 2 : Paper | 3 : Rock | 0 : Stop\n",
      "2\n",
      "Paper vs Paper\n",
      "Draw\n",
      "{'Win': 0, 'Lose': 2, 'Tie': 1}\n",
      "******************************\n",
      "1 : Scissor | 2 : Paper | 3 : Rock | 0 : Stop\n",
      "3\n",
      "Rock vs Rock\n",
      "Draw\n",
      "{'Win': 0, 'Lose': 2, 'Tie': 2}\n",
      "******************************\n",
      "1 : Scissor | 2 : Paper | 3 : Rock | 0 : Stop\n",
      "1\n",
      "Rock vs Scissor\n",
      "You Lose!\n",
      "{'Win': 0, 'Lose': 3, 'Tie': 2}\n",
      "******************************\n",
      "1 : Scissor | 2 : Paper | 3 : Rock | 0 : Stop\n",
      "1\n",
      "Scissor vs Scissor\n",
      "Draw\n",
      "{'Win': 0, 'Lose': 3, 'Tie': 3}\n",
      "******************************\n",
      "1 : Scissor | 2 : Paper | 3 : Rock | 0 : Stop\n",
      "1\n",
      "Scissor vs Scissor\n",
      "Draw\n",
      "{'Win': 0, 'Lose': 3, 'Tie': 4}\n",
      "******************************\n",
      "1 : Scissor | 2 : Paper | 3 : Rock | 0 : Stop\n",
      "1\n",
      "Scissor vs Scissor\n",
      "Draw\n",
      "{'Win': 0, 'Lose': 3, 'Tie': 5}\n",
      "******************************\n",
      "1 : Scissor | 2 : Paper | 3 : Rock | 0 : Stop\n",
      "1\n",
      "Rock vs Scissor\n",
      "You Lose!\n",
      "{'Win': 0, 'Lose': 4, 'Tie': 5}\n",
      "******************************\n",
      "1 : Scissor | 2 : Paper | 3 : Rock | 0 : Stop\n",
      "1\n",
      "Scissor vs Scissor\n",
      "Draw\n",
      "{'Win': 0, 'Lose': 4, 'Tie': 6}\n",
      "******************************\n",
      "1 : Scissor | 2 : Paper | 3 : Rock | 0 : Stop\n",
      "1\n",
      "Rock vs Scissor\n",
      "You Lose!\n",
      "{'Win': 0, 'Lose': 5, 'Tie': 6}\n",
      "******************************\n",
      "1 : Scissor | 2 : Paper | 3 : Rock | 0 : Stop\n",
      "1\n",
      "Scissor vs Scissor\n",
      "Draw\n",
      "{'Win': 0, 'Lose': 5, 'Tie': 7}\n",
      "******************************\n",
      "1 : Scissor | 2 : Paper | 3 : Rock | 0 : Stop\n",
      "1\n",
      "Rock vs Scissor\n",
      "You Lose!\n",
      "{'Win': 0, 'Lose': 6, 'Tie': 7}\n",
      "******************************\n",
      "1 : Scissor | 2 : Paper | 3 : Rock | 0 : Stop\n",
      "1\n",
      "Scissor vs Scissor\n",
      "Draw\n",
      "{'Win': 0, 'Lose': 6, 'Tie': 8}\n",
      "******************************\n",
      "1 : Scissor | 2 : Paper | 3 : Rock | 0 : Stop\n",
      "1\n",
      "Paper vs Scissor\n",
      "You Win!!\n",
      "{'Win': 1, 'Lose': 6, 'Tie': 8}\n",
      "******************************\n",
      "1 : Scissor | 2 : Paper | 3 : Rock | 0 : Stop\n",
      "1\n",
      "Scissor vs Scissor\n",
      "Draw\n",
      "{'Win': 1, 'Lose': 6, 'Tie': 9}\n",
      "******************************\n",
      "1 : Scissor | 2 : Paper | 3 : Rock | 0 : Stop\n",
      "1\n",
      "Rock vs Scissor\n",
      "You Lose!\n",
      "{'Win': 1, 'Lose': 7, 'Tie': 9}\n",
      "******************************\n",
      "1 : Scissor | 2 : Paper | 3 : Rock | 0 : Stop\n",
      "1\n",
      "Paper vs Scissor\n",
      "You Win!!\n",
      "{'Win': 2, 'Lose': 7, 'Tie': 9}\n",
      "******************************\n",
      "1 : Scissor | 2 : Paper | 3 : Rock | 0 : Stop\n",
      "1\n",
      "Scissor vs Scissor\n",
      "Draw\n",
      "{'Win': 2, 'Lose': 7, 'Tie': 10}\n",
      "******************************\n",
      "1 : Scissor | 2 : Paper | 3 : Rock | 0 : Stop\n",
      "1\n",
      "Paper vs Scissor\n",
      "You Win!!\n",
      "{'Win': 3, 'Lose': 7, 'Tie': 10}\n",
      "******************************\n",
      "1 : Scissor | 2 : Paper | 3 : Rock | 0 : Stop\n",
      "1\n",
      "Rock vs Scissor\n",
      "You Lose!\n",
      "{'Win': 3, 'Lose': 8, 'Tie': 10}\n",
      "******************************\n",
      "1 : Scissor | 2 : Paper | 3 : Rock | 0 : Stop\n",
      "1\n",
      "Rock vs Scissor\n",
      "You Lose!\n",
      "{'Win': 3, 'Lose': 9, 'Tie': 10}\n",
      "******************************\n",
      "1 : Scissor | 2 : Paper | 3 : Rock | 0 : Stop\n",
      "1\n",
      "Rock vs Scissor\n",
      "You Lose!\n",
      "{'Win': 3, 'Lose': 10, 'Tie': 10}\n",
      "******************************\n",
      "1 : Scissor | 2 : Paper | 3 : Rock | 0 : Stop\n",
      "1\n",
      "Scissor vs Scissor\n",
      "Draw\n",
      "{'Win': 3, 'Lose': 10, 'Tie': 11}\n",
      "******************************\n",
      "1 : Scissor | 2 : Paper | 3 : Rock | 0 : Stop\n",
      "1\n",
      "Paper vs Scissor\n",
      "You Win!!\n",
      "{'Win': 4, 'Lose': 10, 'Tie': 11}\n",
      "******************************\n",
      "1 : Scissor | 2 : Paper | 3 : Rock | 0 : Stop\n",
      "1\n",
      "Scissor vs Scissor\n",
      "Draw\n",
      "{'Win': 4, 'Lose': 10, 'Tie': 12}\n",
      "******************************\n",
      "1 : Scissor | 2 : Paper | 3 : Rock | 0 : Stop\n",
      "1\n",
      "Rock vs Scissor\n",
      "You Lose!\n",
      "{'Win': 4, 'Lose': 11, 'Tie': 12}\n",
      "******************************\n",
      "1 : Scissor | 2 : Paper | 3 : Rock | 0 : Stop\n",
      "1\n",
      "Scissor vs Scissor\n",
      "Draw\n",
      "{'Win': 4, 'Lose': 11, 'Tie': 13}\n",
      "******************************\n",
      "1 : Scissor | 2 : Paper | 3 : Rock | 0 : Stop\n",
      "1\n",
      "Rock vs Scissor\n",
      "You Lose!\n",
      "{'Win': 4, 'Lose': 12, 'Tie': 13}\n",
      "******************************\n",
      "1 : Scissor | 2 : Paper | 3 : Rock | 0 : Stop\n",
      "1\n",
      "Paper vs Scissor\n",
      "You Win!!\n",
      "{'Win': 5, 'Lose': 12, 'Tie': 13}\n",
      "******************************\n",
      "1 : Scissor | 2 : Paper | 3 : Rock | 0 : Stop\n",
      "1\n",
      "Paper vs Scissor\n",
      "You Win!!\n",
      "{'Win': 6, 'Lose': 12, 'Tie': 13}\n",
      "******************************\n",
      "1 : Scissor | 2 : Paper | 3 : Rock | 0 : Stop\n",
      "1\n",
      "Paper vs Scissor\n",
      "You Win!!\n",
      "{'Win': 7, 'Lose': 12, 'Tie': 13}\n",
      "******************************\n",
      "1 : Scissor | 2 : Paper | 3 : Rock | 0 : Stop\n",
      "1\n",
      "Scissor vs Scissor\n",
      "Draw\n",
      "{'Win': 7, 'Lose': 12, 'Tie': 14}\n",
      "******************************\n",
      "1 : Scissor | 2 : Paper | 3 : Rock | 0 : Stop\n",
      "1\n",
      "Paper vs Scissor\n",
      "You Win!!\n",
      "{'Win': 8, 'Lose': 12, 'Tie': 14}\n",
      "******************************\n",
      "1 : Scissor | 2 : Paper | 3 : Rock | 0 : Stop\n",
      "1\n",
      "Scissor vs Scissor\n",
      "Draw\n",
      "{'Win': 8, 'Lose': 12, 'Tie': 15}\n",
      "******************************\n",
      "1 : Scissor | 2 : Paper | 3 : Rock | 0 : Stop\n",
      "11\n",
      "Please put only number between 1 and 3\n",
      "1 : Scissor | 2 : Paper | 3 : Rock | 0 : Stop\n",
      "1\n",
      "Rock vs Scissor\n",
      "You Lose!\n",
      "{'Win': 8, 'Lose': 13, 'Tie': 15}\n",
      "******************************\n",
      "1 : Scissor | 2 : Paper | 3 : Rock | 0 : Stop\n",
      "1\n",
      "Scissor vs Scissor\n",
      "Draw\n",
      "{'Win': 8, 'Lose': 13, 'Tie': 16}\n",
      "******************************\n",
      "1 : Scissor | 2 : Paper | 3 : Rock | 0 : Stop\n",
      "1\n",
      "Paper vs Scissor\n",
      "You Win!!\n",
      "{'Win': 9, 'Lose': 13, 'Tie': 16}\n",
      "******************************\n",
      "1 : Scissor | 2 : Paper | 3 : Rock | 0 : Stop\n",
      "1\n",
      "Scissor vs Scissor\n",
      "Draw\n",
      "{'Win': 9, 'Lose': 13, 'Tie': 17}\n",
      "******************************\n",
      "1 : Scissor | 2 : Paper | 3 : Rock | 0 : Stop\n",
      "1\n",
      "Paper vs Scissor\n",
      "You Win!!\n",
      "{'Win': 10, 'Lose': 13, 'Tie': 17}\n",
      "******************************\n",
      "1 : Scissor | 2 : Paper | 3 : Rock | 0 : Stop\n",
      "1\n",
      "Paper vs Scissor\n",
      "You Win!!\n",
      "{'Win': 11, 'Lose': 13, 'Tie': 17}\n",
      "******************************\n",
      "1 : Scissor | 2 : Paper | 3 : Rock | 0 : Stop\n",
      "1\n",
      "Paper vs Scissor\n",
      "You Win!!\n",
      "{'Win': 12, 'Lose': 13, 'Tie': 17}\n",
      "******************************\n",
      "1 : Scissor | 2 : Paper | 3 : Rock | 0 : Stop\n",
      "1\n",
      "Scissor vs Scissor\n",
      "Draw\n",
      "{'Win': 12, 'Lose': 13, 'Tie': 18}\n",
      "******************************\n",
      "1 : Scissor | 2 : Paper | 3 : Rock | 0 : Stop\n",
      "0\n",
      "Total rounds = 43\n",
      "You won : 12 times\n",
      "You lost : 13 times\n",
      "Tied : 18 times\n"
     ]
    }
   ],
   "source": [
    "start()"
   ]
  },
  {
   "cell_type": "markdown",
   "id": "4090fc09",
   "metadata": {},
   "source": [
    "## ATM\n",
    "Creating an atm object with OOP having 5 methods"
   ]
  },
  {
   "cell_type": "code",
   "execution_count": 24,
   "id": "41808dd6",
   "metadata": {},
   "outputs": [],
   "source": [
    "account_id_available = iter(range(1,100))\n",
    "account_instances =[]\n",
    "class atm:\n",
    "    def __init__(self, firstname: str, lastname: str, initcash: float, pins: int):\n",
    "        self.firstname = firstname\n",
    "        self.lastname = lastname\n",
    "        self.cash = float(initcash)\n",
    "        self.account_id = next(account_id_available)\n",
    "        self.__pins = int(pins)\n",
    "        account_instances.append(self)\n",
    "\n",
    "        print(f'Hello {firstname}, you succesfully open your bank account!\\nYour account ID is {self.account_id}')\n",
    "        \n",
    "    def get_balance(self):\n",
    "        print(f'Your current balance is {self.cash}')\n",
    "        \n",
    "    def transfer(self, destination_id: int, cash: float):\n",
    "        destination = account_instances[destination_id-1]\n",
    "        if self.check_pins():\n",
    "            \n",
    "            if self.account_id == destination_id:\n",
    "                print(\"You cannot transfer money to the same account!\")\n",
    "\n",
    "            else:\n",
    "                if self.cash >= cash:\n",
    "                    print(f\"You want to transfer to Account ID {destination_id}\")\n",
    "                    print(f\"Name: {destination.firstname+ ' ' + destination.lastname}\")\n",
    "                    confirm = int(input('Press 1 to Confirm\\n'))\n",
    "                    if confirm:\n",
    "                        self.cash -= cash\n",
    "                        destination.cash += cash\n",
    "                    else:\n",
    "                        print(\"You canceled your transaction!\")\n",
    "                    self.get_balance()\n",
    "\n",
    "                else:\n",
    "                    print('Your balance is not enough!!')\n",
    "        \n",
    "    def deposit(self,cash: float):\n",
    "        self.cash += float(cash)\n",
    "        print(\"You succesfully deposited your money\")\n",
    "        self.get_balance()\n",
    "        \n",
    "    def withdraw(self, cash: float):\n",
    "        if self.check_pins():\n",
    "            if self.cash >= cash:\n",
    "                self.cash -= cash\n",
    "                print('You succesfully withdrawn your money!')\n",
    "                self.get_balance()\n",
    "            else:\n",
    "                print('Your balance is not enough!')\n",
    "    \n",
    "    def check_pins(self):\n",
    "        pins = int(input(\"Please put your pins (6 digits)\\n\"))\n",
    "        if self.__pins == pins:\n",
    "            return True\n",
    "        elif (str(pins).isnumeric()) & (len(str(pins)) != 6):\n",
    "            print('Wrong pins, pins are 6 digit numbers')\n",
    "            return False\n",
    "        else:\n",
    "            print('Wrong pins!')\n",
    "            return False\n",
    "        \n",
    "    def change_pins(self):\n",
    "        if self.check_pins():\n",
    "            # Must be numbers checking\n",
    "            try:\n",
    "                new_pins_1 = int(input(\"Please put your new pins\\n\"))\n",
    "                new_pins_2 = int(input(\"Please put your new pins again\\n\"))\n",
    "            except:\n",
    "                print(\"Pins must be 6 digit numbers!\")\n",
    "            # Pins = 6 digit\n",
    "            if len(str(new_pins_1)) != 6 or len(str(new_pins_2)) != 6:\n",
    "                print(\"Pins must be 6 digit numbers!\")\n",
    "            # If both are equal, be 6 digit numbers, then change the password\n",
    "            elif new_pins_1 == new_pins_2:\n",
    "                self.__pins = new_pins_1\n",
    "                print(\"Your pins have been changed!\")\n",
    "            # Both new pins are not the same\n",
    "            else:\n",
    "                print('Your second pins are not the same as the first pins')"
   ]
  },
  {
   "cell_type": "markdown",
   "id": "a4bde277",
   "metadata": {},
   "source": [
    "### Let's create a first atm object\n",
    "atm1 = atm(firstname, lastname, initcash, pins)"
   ]
  },
  {
   "cell_type": "code",
   "execution_count": 25,
   "id": "66da08e1",
   "metadata": {},
   "outputs": [
    {
     "name": "stdout",
     "output_type": "stream",
     "text": [
      "Hello Prommest, you succesfully open your bank account!\n",
      "Your account ID is 1\n"
     ]
    }
   ],
   "source": [
    "atm1 = atm(\"Prommest\", \"Kavindechatorn\", 500, 123456)"
   ]
  },
  {
   "cell_type": "markdown",
   "id": "b2ffad14",
   "metadata": {},
   "source": [
    "### Check balance, deposit and withdraw\n",
    "- Checking balance = atm.get_balance()\n",
    "- Deposit money = atm.deposit(cash)</br>\n",
    "- Withdraw money = atm.withdraw(cash)</br>\n",
    "<br> In order to withdraw, you need to put your pins correctly, and your balance must be greater or equal than the amount of money you will withdraw. </br>"
   ]
  },
  {
   "cell_type": "code",
   "execution_count": 8,
   "id": "b18f6899",
   "metadata": {},
   "outputs": [
    {
     "name": "stdout",
     "output_type": "stream",
     "text": [
      "Before deposit\n",
      "Your current balance is 500.0\n",
      "After deposit\n",
      "You succesfully deposited your money\n",
      "Your current balance is 600.0\n"
     ]
    }
   ],
   "source": [
    "print('Before deposit')\n",
    "atm1.get_balance()\n",
    "print('After deposit')\n",
    "atm1.deposit(100)"
   ]
  },
  {
   "cell_type": "code",
   "execution_count": 9,
   "id": "b5db33b6",
   "metadata": {},
   "outputs": [
    {
     "name": "stdout",
     "output_type": "stream",
     "text": [
      "Please put your pins (6 digits)\n",
      "232323\n",
      "Wrong pins!\n"
     ]
    }
   ],
   "source": [
    "atm1.withdraw(600)"
   ]
  },
  {
   "cell_type": "code",
   "execution_count": 10,
   "id": "c070b2e4",
   "metadata": {},
   "outputs": [
    {
     "name": "stdout",
     "output_type": "stream",
     "text": [
      "Please put your pins (6 digits)\n",
      "123456\n",
      "You succesfully withdrawn your money!\n",
      "Your current balance is 0.0\n"
     ]
    }
   ],
   "source": [
    "atm1.withdraw(600)"
   ]
  },
  {
   "cell_type": "markdown",
   "id": "82bebf97",
   "metadata": {},
   "source": [
    "### Change pins\n",
    "Let's try change the pins of atm1 with atm.change_pins() , and test a new pins with atm.check_pins() function.\n",
    "- New pins must be 6 digit numbers, you will need to put new pins twice, both must be the same.\n",
    "- check_pins() return True if the pins are correct."
   ]
  },
  {
   "cell_type": "code",
   "execution_count": 16,
   "id": "4928ecff",
   "metadata": {},
   "outputs": [
    {
     "name": "stdout",
     "output_type": "stream",
     "text": [
      "Please put your pins (6 digits)\n",
      "123456\n",
      "Please put your new pins\n",
      "111111\n",
      "Please put your new pins again\n",
      "111111\n",
      "Your pins have been changed!\n"
     ]
    }
   ],
   "source": [
    "atm1.change_pins()"
   ]
  },
  {
   "cell_type": "code",
   "execution_count": 17,
   "id": "d198751f",
   "metadata": {},
   "outputs": [
    {
     "name": "stdout",
     "output_type": "stream",
     "text": [
      "Please put your pins (6 digits)\n",
      "123456\n",
      "Wrong pins!\n"
     ]
    },
    {
     "data": {
      "text/plain": [
       "False"
      ]
     },
     "execution_count": 17,
     "metadata": {},
     "output_type": "execute_result"
    }
   ],
   "source": [
    "atm1.check_pins()"
   ]
  },
  {
   "cell_type": "markdown",
   "id": "e16c50a4",
   "metadata": {},
   "source": [
    "### Transfer\n",
    "Let's transfer money from an account to another account\n",
    "- Required pins\n",
    "- Required account id of destination account\n",
    "- Amount of money you want to transfer must be less or equal to current balance"
   ]
  },
  {
   "cell_type": "code",
   "execution_count": 26,
   "id": "23007ff4",
   "metadata": {},
   "outputs": [
    {
     "name": "stdout",
     "output_type": "stream",
     "text": [
      "Hello Somchai, you succesfully open your bank account!\n",
      "Your account ID is 2\n"
     ]
    }
   ],
   "source": [
    "acc_1 = atm('Somchai', 'Maihua', 10000, 111111)"
   ]
  },
  {
   "cell_type": "code",
   "execution_count": 27,
   "id": "52d48324",
   "metadata": {},
   "outputs": [
    {
     "name": "stdout",
     "output_type": "stream",
     "text": [
      "Hello Somying, you succesfully open your bank account!\n",
      "Your account ID is 3\n"
     ]
    }
   ],
   "source": [
    "acc_2 = atm('Somying', 'Pingnonthanon', 0, 912311)"
   ]
  },
  {
   "cell_type": "markdown",
   "id": "76c76df6",
   "metadata": {},
   "source": [
    "We will transfer money from Somchai account to Somying account **(account_id:3)**\n",
    "- atm.transfer(destination_id, amount_of_money)"
   ]
  },
  {
   "cell_type": "code",
   "execution_count": 28,
   "id": "d81eaf85",
   "metadata": {},
   "outputs": [
    {
     "name": "stdout",
     "output_type": "stream",
     "text": [
      "Please put your pins (6 digits)\n",
      "111111\n",
      "You want to transfer to Account ID 3\n",
      "Name: Somying Pingnonthanon\n",
      "Press 1 to Confirm\n",
      "1\n",
      "Your current balance is 0.0\n"
     ]
    }
   ],
   "source": [
    "acc_1.transfer(3, 10000)"
   ]
  },
  {
   "cell_type": "code",
   "execution_count": 29,
   "id": "51cbdb32",
   "metadata": {},
   "outputs": [
    {
     "name": "stdout",
     "output_type": "stream",
     "text": [
      "Your current balance is 10000.0\n"
     ]
    }
   ],
   "source": [
    "acc_2.get_balance()"
   ]
  },
  {
   "cell_type": "markdown",
   "id": "80a9c055",
   "metadata": {},
   "source": [
    "Now there is 10000 in Somying's account, let's try transfer it to Prommest account (the first account)"
   ]
  },
  {
   "cell_type": "code",
   "execution_count": 30,
   "id": "7adc3118",
   "metadata": {},
   "outputs": [
    {
     "name": "stdout",
     "output_type": "stream",
     "text": [
      "Please put your pins (6 digits)\n",
      "912311\n",
      "You want to transfer to Account ID 1\n",
      "Name: Prommest Kavindechatorn\n",
      "Press 1 to Confirm\n",
      "1\n",
      "Your current balance is 0.0\n"
     ]
    }
   ],
   "source": [
    "acc_2.transfer(1, 10000)"
   ]
  },
  {
   "cell_type": "code",
   "execution_count": 31,
   "id": "2d97a047",
   "metadata": {},
   "outputs": [
    {
     "name": "stdout",
     "output_type": "stream",
     "text": [
      "Your current balance is 10500.0\n"
     ]
    }
   ],
   "source": [
    "atm1.get_balance()"
   ]
  }
 ],
 "metadata": {
  "kernelspec": {
   "display_name": "Python 3 (ipykernel)",
   "language": "python",
   "name": "python3"
  },
  "language_info": {
   "codemirror_mode": {
    "name": "ipython",
    "version": 3
   },
   "file_extension": ".py",
   "mimetype": "text/x-python",
   "name": "python",
   "nbconvert_exporter": "python",
   "pygments_lexer": "ipython3",
   "version": "3.10.6"
  }
 },
 "nbformat": 4,
 "nbformat_minor": 5
}
